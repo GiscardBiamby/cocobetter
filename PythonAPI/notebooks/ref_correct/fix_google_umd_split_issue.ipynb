{
 "cells": [
  {
   "cell_type": "markdown",
   "metadata": {},
   "source": [
    "This notebook fixes the issue with our generated fprefcocog. \n",
    "\n",
    "We generated from the splitBy=google but we should have used splitBy=umd. Since the google and umd versions are identical except for the train/val/test splits, we can just copy the split value from umd -> google"
   ]
  },
  {
   "cell_type": "code",
   "execution_count": 1,
   "metadata": {},
   "outputs": [],
   "source": [
    "%matplotlib inline\n",
    "%load_ext autoreload\n",
    "%autoreload 2"
   ]
  },
  {
   "cell_type": "code",
   "execution_count": 2,
   "metadata": {
    "tags": []
   },
   "outputs": [
    {
     "name": "stdout",
     "output_type": "stream",
     "text": [
      "fastjsonschema                    2.18.0\n",
      "json5                             0.9.14\n",
      "jsonpointer                       2.4\n",
      "jsons                             1.6.3\n",
      "jsonschema                        4.19.1\n",
      "jsonschema-specifications         2023.7.1\n",
      "pysimdjson                        5.0.2\n",
      "python-json-logger                2.0.7\n",
      "python-lsp-jsonrpc                1.1.1\n",
      "ujson                             5.8.0\n",
      "Note: you may need to restart the kernel to use updated packages.\n"
     ]
    }
   ],
   "source": [
    "%pip list | grep json"
   ]
  },
  {
   "cell_type": "code",
   "execution_count": 10,
   "metadata": {
    "tags": []
   },
   "outputs": [],
   "source": [
    "import argparse\n",
    "import copy\n",
    "import csv\n",
    "import decimal\n",
    "import pickle\n",
    "import typing\n",
    "from collections import Counter, defaultdict\n",
    "from copy import deepcopy\n",
    "from dataclasses import dataclass\n",
    "from pathlib import Path\n",
    "from typing import Dict, List, Set, Tuple\n",
    "\n",
    "import matplotlib.pyplot as plt\n",
    "import numpy as np\n",
    "import pandas as pd\n",
    "import seaborn as sns\n",
    "import simdjson as json\n",
    "from IPython.display import display\n",
    "from pycocotools.coco import COCO\n",
    "from pycocotools.helpers import CocoClassDistHelper\n",
    "from tqdm.auto import tqdm"
   ]
  },
  {
   "cell_type": "code",
   "execution_count": 4,
   "metadata": {},
   "outputs": [
    {
     "name": "stdout",
     "output_type": "stream",
     "text": [
      "total 93M\n",
      "drwxr-xr-x  2 gbiamby users    5 Sep 22 22:33  \u001b[0m\u001b[01;34m.\u001b[0m/\n",
      "drwxr-xr-x 23 gbiamby users   28 Nov  9 04:57  \u001b[01;34m..\u001b[0m/\n",
      "-rw-r--r--  1 gbiamby users 115M Feb  3  2016  instances.json\n",
      "-rw-r--r--  1 gbiamby users  31M Feb  3  2016 'refs(google).p'\n",
      "-rw-r--r--  1 gbiamby users  31M Feb  3  2016 'refs(unc).p'\n",
      "total 126M\n",
      "drwxr-xr-x  2 gbiamby users    5 Nov  8 18:20  \u001b[0m\u001b[01;34m.\u001b[0m/\n",
      "drwxr-xr-x 23 gbiamby users   28 Nov  9 04:57  \u001b[01;34m..\u001b[0m/\n",
      "-rw-r--r--  1 gbiamby users 115M Nov  7 20:31  instances.json\n",
      "-rw-r--r--  1 gbiamby users  77M Nov  8 18:40 'refs(berkeley).p'\n",
      "-rw-r--r--  1 gbiamby users  77M Nov  8 18:20 'refs(google_berkeley).p'\n"
     ]
    }
   ],
   "source": [
    "%ls -lah \"/home/gbiamby/proj/geo-llm-ret/lib/neg_refer_llm/dataset/refer_seg/refcoco/\"\n",
    "%ls -lah \"/home/gbiamby/proj/geo-llm-ret/lib/neg_refer_llm/dataset/refer_seg/fprefcoco_v002/\""
   ]
  },
  {
   "cell_type": "code",
   "execution_count": 5,
   "metadata": {},
   "outputs": [],
   "source": [
    "REFSEG_DIR = Path(\"/home/gbiamby/proj/geo-llm-ret/lib/neg_refer_llm/dataset/refer_seg/\")\n",
    "# dataset_json = Path(REFSEG_DIR / \"R-refcocog/instances.json\")\n",
    "# coco_dist = CocoClassDistHelper(dataset_json)"
   ]
  },
  {
   "cell_type": "code",
   "execution_count": 170,
   "metadata": {
    "tags": []
   },
   "outputs": [],
   "source": [
    "VALID_SPLITS = {\n",
    "    \"R-refcoco\": [\"unc\"],\n",
    "    \"R-refcoco+\": [\"unc\"],\n",
    "    \"R-refcocog\": [\"umd\"],\n",
    "    # \"refclef\": [\"berkeley\", \"unc\"],\n",
    "    \"refcoco\": [\"unc\", \"google\"],\n",
    "    \"refcoco+\": [\"unc\"],\n",
    "    \"refcocog\": [\n",
    "        \"umd\",\n",
    "        \"google\",\n",
    "    ],  # [\"google\", \"umd\"], # google and umd seem to be identical? THey have the same aggregate stats.\n",
    "    # \"coconegref\": [\"berkeley\"],\n",
    "    \"fprefcoco_v002\": [\"berkeley\"],\n",
    "    \"fprefcoco+_v002\": [\"berkeley\"],\n",
    "    \"fprefcocog_v002\": [\"berkeley\"],\n",
    "}\n",
    "\n",
    "\n",
    "def build_refcoco(refseg_path: Path, dataset_name: str, split_by: str = None) -> COCO:\n",
    "    assert dataset_name in VALID_SPLITS, dataset_name\n",
    "    if split_by is None:\n",
    "        split_by = VALID_SPLITS[dataset_name][0]\n",
    "    else:\n",
    "        assert split_by in VALID_SPLITS[dataset_name]\n",
    "    coco = COCO(\n",
    "        refseg_path / dataset_name / \"instances.json\",\n",
    "        is_ref_dataset=True,\n",
    "        dataset_name=dataset_name,\n",
    "        split_by=split_by,\n",
    "    )\n",
    "    return coco"
   ]
  },
  {
   "cell_type": "code",
   "execution_count": 107,
   "metadata": {
    "tags": []
   },
   "outputs": [
    {
     "name": "stdout",
     "output_type": "stream",
     "text": [
      "Loading refs from '/shared/gbiamby/data/refer_seg/refcoco/refs(google).p'\n",
      "Loaded 50000 refs\n",
      "loading annotations into memory...\n",
      "Done (t=1.19s)\n",
      "creating index...\n",
      "index created!\n",
      "Loading refs from '/shared/gbiamby/data/refer_seg/refcoco/refs(unc).p'\n",
      "Loaded 50000 refs\n",
      "loading annotations into memory...\n",
      "Done (t=1.24s)\n",
      "creating index...\n",
      "index created!\n",
      "Loading refs from '/shared/gbiamby/data/refer_seg/fprefcoco_v002/refs(berkeley).p'\n",
      "Loaded 50000 refs\n",
      "loading annotations into memory...\n",
      "Done (t=9.24s)\n",
      "creating index...\n",
      "index created!\n"
     ]
    }
   ],
   "source": [
    "refg_google = build_refcoco(REFSEG_DIR, \"refcoco\", \"google\")\n",
    "refg_umd = build_refcoco(REFSEG_DIR, \"refcoco\", \"unc\")\n",
    "fprefg_google = build_refcoco(REFSEG_DIR, \"fprefcoco_v002\", \"berkeley\")"
   ]
  },
  {
   "cell_type": "code",
   "execution_count": 108,
   "metadata": {
    "tags": []
   },
   "outputs": [
    {
     "name": "stdout",
     "output_type": "stream",
     "text": [
      "img_ids same:  True 19994 19994 19994\n",
      "ann_ids same:  True 196771 196771 196771\n",
      "ref_ids same:  True 50000 50000 50000\n",
      "img_ids same:  True 19994 19994 19994\n",
      "ann_ids same:  True 196771 196771 196771\n",
      "ref_ids same:  True 50000 50000 50000\n"
     ]
    }
   ],
   "source": [
    "def compare_refcocos(ref_a: COCO, ref_b: COCO):\n",
    "    imgs_a = set(ref_a.imgs.keys())\n",
    "    imgs_b = set(ref_b.imgs.keys())\n",
    "    print(\n",
    "        \"img_ids same: \",\n",
    "        imgs_a == imgs_b,\n",
    "        len(imgs_a),\n",
    "        len(imgs_b),\n",
    "        len(imgs_a.intersection(imgs_b)),\n",
    "    )\n",
    "\n",
    "    ann_ids_a = set(ref_a.anns.keys())\n",
    "    ann_ids_b = set(ref_b.anns.keys())\n",
    "    print(\n",
    "        \"ann_ids same: \",\n",
    "        ann_ids_a == ann_ids_b,\n",
    "        len(ann_ids_a),\n",
    "        len(ann_ids_b),\n",
    "        len(ann_ids_a.intersection(ann_ids_b)),\n",
    "    )\n",
    "\n",
    "    ref_ids_a = set(ref_a.refs.keys())\n",
    "    ref_ids_b = set(ref_b.refs.keys())\n",
    "    print(\n",
    "        \"ref_ids same: \",\n",
    "        ref_ids_a == ref_ids_b,\n",
    "        len(ref_ids_a),\n",
    "        len(ref_ids_b),\n",
    "        len(ref_ids_a.intersection(ref_ids_b)),\n",
    "    )\n",
    "\n",
    "\n",
    "compare_refcocos(refg_google, refg_umd)\n",
    "compare_refcocos(fprefg_google, refg_umd)"
   ]
  },
  {
   "cell_type": "markdown",
   "metadata": {},
   "source": [
    "The ref_ids are not consistent between the two datasets, but the actual refering expressions and sentences mapped to them are the same. So we cannot use ref_id as a unique identifier fi we are compare across different ref_seg datasets."
   ]
  },
  {
   "cell_type": "code",
   "execution_count": 41,
   "metadata": {
    "tags": []
   },
   "outputs": [
    {
     "name": "stdout",
     "output_type": "stream",
     "text": [
      "[(17861, 1, [30065]), (20840, 2, [37026, 37027]), (44673, 2, [92713, 92714])]\n",
      "[(16534, 1, [30065]), (19208, 2, [37026, 37027]), (40652, 2, [92713, 92714])]\n",
      "['a pink plastic box which is rectangle', 'a yellow rectangle bowl with broccoli and a brown food in it', 'container holding fruit', 'pink container of tangerines and pineapple', 'the tray that holds the broccoli']\n",
      "\n",
      "['a pink plastic box which is rectangle', 'a yellow rectangle bowl with broccoli and a brown food in it', 'container holding fruit', 'pink container of tangerines and pineapple', 'the tray that holds the broccoli']\n"
     ]
    }
   ],
   "source": [
    "from pycocotools.coco import Ann, Image, Ref\n",
    "\n",
    "google_img, umd_img = next(\n",
    "    zip(sorted(refg_google.img_to_refs.items()), sorted(refg_umd.img_to_refs.items()))\n",
    ")\n",
    "google_img[0], umd_img[0]\n",
    "print(\n",
    "    [(ref[\"ref_id\"], len(ref[\"sentences\"]), ref[\"sent_ids\"]) for ref in google_img[1]]\n",
    ")\n",
    "print([(ref[\"ref_id\"], len(ref[\"sentences\"]), ref[\"sent_ids\"]) for ref in umd_img[1]])\n",
    "\n",
    "sents = []\n",
    "for ref in google_img[1]:\n",
    "    for s in ref[\"sentences\"]:\n",
    "        sents.append(s[\"sent\"])\n",
    "print(sorted(sents))\n",
    "\n",
    "print(\"\")\n",
    "sents = []\n",
    "for ref in umd_img[1]:\n",
    "    for s in ref[\"sentences\"]:\n",
    "        sents.append(s[\"sent\"])\n",
    "print(sorted(sents))"
   ]
  },
  {
   "cell_type": "markdown",
   "metadata": {
    "tags": []
   },
   "source": [
    "Another result is that refs are not in the same order within an image. ref_ids are not equal, but even if we ignore that, the set of sentences across the image refs are the same, but the ordering of the refs (and therefore the sentences) are not the same between two different datasets."
   ]
  },
  {
   "cell_type": "code",
   "execution_count": 112,
   "metadata": {
    "tags": []
   },
   "outputs": [
    {
     "name": "stderr",
     "output_type": "stream",
     "text": [
      " 56%|███████████████████████████████████████████████████████████████████████████████████████████████████████████████████████████████████████████████████▊                                                                                                                  | 11281/19994 [00:00<00:00, 56461.10it/s]"
     ]
    },
    {
     "name": "stdout",
     "output_type": "stream",
     "text": [
      "train ,  ('giraffe on left', 'left giraffe')\n",
      "train ,  ('giraffe on left', 'left giraffe')\n",
      "train ,  ('right girafe', 'right giraffe')\n",
      "val ,  ('right girafe', 'right giraffe')\n"
     ]
    },
    {
     "name": "stderr",
     "output_type": "stream",
     "text": [
      "100%|██████████████████████████████████████████████████████████████████████████████████████████████████████████████████████████████████████████████████████████████████████████████████████████████████████████████████████████████████████████████████████████████████████| 19994/19994 [00:00<00:00, 55544.64it/s]"
     ]
    },
    {
     "name": "stdout",
     "output_type": "stream",
     "text": [
      "2\n"
     ]
    },
    {
     "name": "stderr",
     "output_type": "stream",
     "text": [
      "\n"
     ]
    }
   ],
   "source": [
    "from collections import defaultdict\n",
    "\n",
    "\n",
    "def are_refs_equal(ref_a: Ref, ref_b: Ref) -> bool:\n",
    "    sents_a, sents_b = set(), set()\n",
    "    [sents_a.add(s[\"sent\"]) for s in ref_a[\"sentences\"]]\n",
    "    [sents_b.add(s[\"sent\"]) for s in ref_b[\"sentences\"]]\n",
    "    if sents_a == sents_b:\n",
    "        return True\n",
    "    else:\n",
    "        print(\"sents_a: \", len(sents_a))\n",
    "        print(\"sents_b: \", len(sents_b))\n",
    "        print(\"sents_a: \", sents_a)\n",
    "        print(\"sents_b: \", sents_b)\n",
    "\n",
    "\n",
    "def inspect_image(img_id: int, refseg_a: COCO, refseg_b: COCO):\n",
    "    refs_a = refseg_a.img_to_refs[img_id]\n",
    "    refs_b = refseg_b.img_to_refs[img_id]\n",
    "    print(\"\\nrefseg_a: \")\n",
    "    for ref in refs_a:\n",
    "        for s in ref[\"sentences\"]:\n",
    "            print(s[\"sent\"], ref[\"split\"])\n",
    "    print(\"\\nrefseg_b: \")\n",
    "    for ref in refs_b:\n",
    "        for s in ref[\"sentences\"]:\n",
    "            print(s[\"sent\"], ref[\"split\"])\n",
    "\n",
    "\n",
    "def copy_splits(refseg_a: COCO, refseg_b: COCO):\n",
    "    idx = -1\n",
    "    refseg_b = deepcopy(refseg_b)\n",
    "    errors = []\n",
    "    for (img_id_a, refs_a), (img_id_b, refs_b) in tqdm(\n",
    "        zip(sorted(refseg_a.img_to_refs.items()), sorted(refseg_b.img_to_refs.items())),\n",
    "        total=len(refseg_b.img_to_refs),\n",
    "    ):\n",
    "        idx += 1\n",
    "        assert len(refs_a) == len(refs_b)\n",
    "        sents_a, sents_b = {}, {}\n",
    "        sents_to_ref_a, sents_to_ref_b = defaultdict(list), defaultdict(list)\n",
    "        for ref_a in refs_a:\n",
    "            sents_set = set()\n",
    "            for s in ref_a[\"sentences\"]:\n",
    "                if (\"is_false_premise\" not in s) or (not s[\"is_false_premise\"]):\n",
    "                    sents_a[s[\"sent\"]] = (ref_a, s)\n",
    "                    sents_set.add(s[\"sent\"])\n",
    "            sents_to_ref_a[tuple(sents_set)].append(ref_a)\n",
    "        for ref_b in refs_b:\n",
    "            sents_set = set()\n",
    "            for s in ref_b[\"sentences\"]:\n",
    "                if (\"is_false_premise\" not in s) or (not s[\"is_false_premise\"]):\n",
    "                    sents_b[s[\"sent\"]] = (ref_b, s)\n",
    "                    sents_set.add(s[\"sent\"])\n",
    "            sents_to_ref_b[tuple(sents_set)].append(ref_b)\n",
    "        assert len(sents_a) == len(sents_b)\n",
    "        # Ensure sentences are identical for the image in both datasets:\n",
    "        assert set(sents_a.keys()) == set(sents_b.keys())\n",
    "        assert set(sents_to_ref_a.keys()) == set(sents_to_ref_b.keys())\n",
    "        # assert len(sents_to_ref_a) == len(refs_a)\n",
    "        if len(sents_to_ref_a) != len(refs_a):\n",
    "            errors.append(\n",
    "                {\n",
    "                    \"err\": f\"len(sents_to_ref_a) != len(refs_a) [{len(sents_to_ref_a)} != {len(refs_a)}]\",\n",
    "                    \"sents_to_ref_a\": sents_to_ref_a,\n",
    "                    \"sents_to_ref_b\": sents_to_ref_b,\n",
    "                    \"refs_a\": refs_a,\n",
    "                    \"refs_b\": refs_b,\n",
    "                }\n",
    "            )\n",
    "        # assert len(sents_to_ref_b) == len(refs_b)\n",
    "        if len(sents_to_ref_b) != len(refs_a):\n",
    "            errors.append(\n",
    "                {\n",
    "                    \"err\": f\"len(sents_to_ref_b) != len(refs_b) [{len(sents_to_ref_b)} != {len(refs_b)}]\",\n",
    "                    \"sents_to_ref_a\": sents_to_ref_a,\n",
    "                    \"sents_to_ref_b\": sents_to_ref_b,\n",
    "                    \"refs_a\": refs_a,\n",
    "                    \"refs_b\": refs_b,\n",
    "                    \"img_id\": img_id_a,\n",
    "                }\n",
    "            )\n",
    "        # Now that the refs are ordered the same way, we can loop through them and copy the split data:\n",
    "        for (_sents_a, _refs_a), (_sents_b, _refs_b) in zip(\n",
    "            sents_to_ref_a.items(), sents_to_ref_b.items()\n",
    "        ):\n",
    "            for _ref_a, _ref_b in zip(_refs_a, _refs_b):\n",
    "                if idx <= 0:\n",
    "                    print(_ref_a[\"split\"], \", \", _sents_a)\n",
    "                    print(_ref_b[\"split\"], \", \", _sents_b)\n",
    "                _ref_b[\"split\"] = _ref_a[\"split\"]\n",
    "    return refseg_b, errors\n",
    "\n",
    "\n",
    "fprefg_google_new, errors = copy_splits(refg_umd, fprefg_google)\n",
    "print(len(errors))\n",
    "# inspect_image(529, refg_google, refg_umd)"
   ]
  },
  {
   "cell_type": "code",
   "execution_count": 117,
   "metadata": {
    "tags": []
   },
   "outputs": [],
   "source": [
    "# We expect refcocog(UMD) to have two errors, caused by two of their refs having the same three sentences. It's not really an error.\n",
    "# diplay(errors)"
   ]
  },
  {
   "cell_type": "code",
   "execution_count": 113,
   "metadata": {
    "tags": []
   },
   "outputs": [
    {
     "data": {
      "text/html": [
       "<div>\n",
       "<style scoped>\n",
       "    .dataframe tbody tr th:only-of-type {\n",
       "        vertical-align: middle;\n",
       "    }\n",
       "\n",
       "    .dataframe tbody tr th {\n",
       "        vertical-align: top;\n",
       "    }\n",
       "\n",
       "    .dataframe thead th {\n",
       "        text-align: right;\n",
       "    }\n",
       "</style>\n",
       "<table border=\"1\" class=\"dataframe\">\n",
       "  <thead>\n",
       "    <tr style=\"text-align: right;\">\n",
       "      <th></th>\n",
       "      <th>refs</th>\n",
       "      <th>images</th>\n",
       "    </tr>\n",
       "    <tr>\n",
       "      <th>split</th>\n",
       "      <th></th>\n",
       "      <th></th>\n",
       "    </tr>\n",
       "  </thead>\n",
       "  <tbody>\n",
       "    <tr>\n",
       "      <th>testA</th>\n",
       "      <td>1975</td>\n",
       "      <td>750</td>\n",
       "    </tr>\n",
       "    <tr>\n",
       "      <th>testB</th>\n",
       "      <td>1810</td>\n",
       "      <td>750</td>\n",
       "    </tr>\n",
       "    <tr>\n",
       "      <th>train</th>\n",
       "      <td>42404</td>\n",
       "      <td>16994</td>\n",
       "    </tr>\n",
       "    <tr>\n",
       "      <th>val</th>\n",
       "      <td>3811</td>\n",
       "      <td>1500</td>\n",
       "    </tr>\n",
       "  </tbody>\n",
       "</table>\n",
       "</div>"
      ],
      "text/plain": [
       "        refs  images\n",
       "split               \n",
       "testA   1975     750\n",
       "testB   1810     750\n",
       "train  42404   16994\n",
       "val     3811    1500"
      ]
     },
     "metadata": {},
     "output_type": "display_data"
    },
    {
     "data": {
      "text/html": [
       "<div>\n",
       "<style scoped>\n",
       "    .dataframe tbody tr th:only-of-type {\n",
       "        vertical-align: middle;\n",
       "    }\n",
       "\n",
       "    .dataframe tbody tr th {\n",
       "        vertical-align: top;\n",
       "    }\n",
       "\n",
       "    .dataframe thead th {\n",
       "        text-align: right;\n",
       "    }\n",
       "</style>\n",
       "<table border=\"1\" class=\"dataframe\">\n",
       "  <thead>\n",
       "    <tr style=\"text-align: right;\">\n",
       "      <th></th>\n",
       "      <th>refs</th>\n",
       "      <th>images</th>\n",
       "    </tr>\n",
       "    <tr>\n",
       "      <th>split</th>\n",
       "      <th></th>\n",
       "      <th></th>\n",
       "    </tr>\n",
       "  </thead>\n",
       "  <tbody>\n",
       "    <tr>\n",
       "      <th>test</th>\n",
       "      <td>5000</td>\n",
       "      <td>4527</td>\n",
       "    </tr>\n",
       "    <tr>\n",
       "      <th>train</th>\n",
       "      <td>40000</td>\n",
       "      <td>19213</td>\n",
       "    </tr>\n",
       "    <tr>\n",
       "      <th>val</th>\n",
       "      <td>5000</td>\n",
       "      <td>4559</td>\n",
       "    </tr>\n",
       "  </tbody>\n",
       "</table>\n",
       "</div>"
      ],
      "text/plain": [
       "        refs  images\n",
       "split               \n",
       "test    5000    4527\n",
       "train  40000   19213\n",
       "val     5000    4559"
      ]
     },
     "metadata": {},
     "output_type": "display_data"
    },
    {
     "data": {
      "text/html": [
       "<div>\n",
       "<style scoped>\n",
       "    .dataframe tbody tr th:only-of-type {\n",
       "        vertical-align: middle;\n",
       "    }\n",
       "\n",
       "    .dataframe tbody tr th {\n",
       "        vertical-align: top;\n",
       "    }\n",
       "\n",
       "    .dataframe thead th {\n",
       "        text-align: right;\n",
       "    }\n",
       "</style>\n",
       "<table border=\"1\" class=\"dataframe\">\n",
       "  <thead>\n",
       "    <tr style=\"text-align: right;\">\n",
       "      <th></th>\n",
       "      <th>refs</th>\n",
       "      <th>images</th>\n",
       "    </tr>\n",
       "    <tr>\n",
       "      <th>split</th>\n",
       "      <th></th>\n",
       "      <th></th>\n",
       "    </tr>\n",
       "  </thead>\n",
       "  <tbody>\n",
       "    <tr>\n",
       "      <th>test</th>\n",
       "      <td>5000</td>\n",
       "      <td>4527</td>\n",
       "    </tr>\n",
       "    <tr>\n",
       "      <th>train</th>\n",
       "      <td>40000</td>\n",
       "      <td>19213</td>\n",
       "    </tr>\n",
       "    <tr>\n",
       "      <th>val</th>\n",
       "      <td>5000</td>\n",
       "      <td>4559</td>\n",
       "    </tr>\n",
       "  </tbody>\n",
       "</table>\n",
       "</div>"
      ],
      "text/plain": [
       "        refs  images\n",
       "split               \n",
       "test    5000    4527\n",
       "train  40000   19213\n",
       "val     5000    4559"
      ]
     },
     "metadata": {},
     "output_type": "display_data"
    },
    {
     "data": {
      "text/html": [
       "<div>\n",
       "<style scoped>\n",
       "    .dataframe tbody tr th:only-of-type {\n",
       "        vertical-align: middle;\n",
       "    }\n",
       "\n",
       "    .dataframe tbody tr th {\n",
       "        vertical-align: top;\n",
       "    }\n",
       "\n",
       "    .dataframe thead th {\n",
       "        text-align: right;\n",
       "    }\n",
       "</style>\n",
       "<table border=\"1\" class=\"dataframe\">\n",
       "  <thead>\n",
       "    <tr style=\"text-align: right;\">\n",
       "      <th></th>\n",
       "      <th>refs</th>\n",
       "      <th>images</th>\n",
       "    </tr>\n",
       "    <tr>\n",
       "      <th>split</th>\n",
       "      <th></th>\n",
       "      <th></th>\n",
       "    </tr>\n",
       "  </thead>\n",
       "  <tbody>\n",
       "    <tr>\n",
       "      <th>testA</th>\n",
       "      <td>1975</td>\n",
       "      <td>750</td>\n",
       "    </tr>\n",
       "    <tr>\n",
       "      <th>testB</th>\n",
       "      <td>1810</td>\n",
       "      <td>750</td>\n",
       "    </tr>\n",
       "    <tr>\n",
       "      <th>train</th>\n",
       "      <td>42404</td>\n",
       "      <td>16994</td>\n",
       "    </tr>\n",
       "    <tr>\n",
       "      <th>val</th>\n",
       "      <td>3811</td>\n",
       "      <td>1500</td>\n",
       "    </tr>\n",
       "  </tbody>\n",
       "</table>\n",
       "</div>"
      ],
      "text/plain": [
       "        refs  images\n",
       "split               \n",
       "testA   1975     750\n",
       "testB   1810     750\n",
       "train  42404   16994\n",
       "val     3811    1500"
      ]
     },
     "metadata": {},
     "output_type": "display_data"
    }
   ],
   "source": [
    "def show_train_val_test(refcoco: COCO):\n",
    "    refs_list = []\n",
    "    for ref in refcoco.refs.values():\n",
    "        refs_list.append(\n",
    "            {\n",
    "                \"ref_id\": ref[\"ref_id\"],\n",
    "                \"split\": ref[\"split\"],\n",
    "                \"image_id\": ref[\"image_id\"],\n",
    "            }\n",
    "        )\n",
    "    df_refs = pd.DataFrame(refs_list)\n",
    "    display(\n",
    "        df_refs.groupby(\"split\").agg(\n",
    "            refs=(\"ref_id\", \"nunique\"), images=(\"image_id\", \"nunique\")\n",
    "        )\n",
    "    )\n",
    "\n",
    "\n",
    "show_train_val_test(refg_umd)\n",
    "show_train_val_test(refg_google)\n",
    "show_train_val_test(fprefg_google)\n",
    "show_train_val_test(fprefg_google_new)"
   ]
  },
  {
   "cell_type": "code",
   "execution_count": 116,
   "metadata": {
    "tags": []
   },
   "outputs": [
    {
     "name": "stdout",
     "output_type": "stream",
     "text": [
      "/home/gbiamby/proj/geo-llm-ret/output/refcoco_google-gb006_remove_guidelines-gpt-3.5-turbo/refer_seg/fprefcoco_v002/refs(berkeley).p\n"
     ]
    }
   ],
   "source": [
    "# now save the new refs:\n",
    "# refs_path = REFSEG_DIR / \"fprefcoco_v002\"\n",
    "# refs_path = Path(\"/home/gbiamby/proj/geo-llm-ret/output/refcoco_google_enhanced-gb006_remove_guidelines-gpt-3.5-turbo/refer_seg/fprefcoco_v002\") # refcocog\n",
    "refs_paths = [\n",
    "    REFSEG_DIR / \"fprefcoco_v002\",\n",
    "    Path(\n",
    "        \"/home/gbiamby/proj/geo-llm-ret/output/refcoco_google-gb006_remove_guidelines-gpt-3.5-turbo/refer_seg/fprefcoco_v002\"\n",
    "    ),  # refcoco\n",
    "]\n",
    "for refs_path in refs_paths:\n",
    "    assert refs_path.exists(), str(refs_path)\n",
    "\n",
    "for refs_path in refs_paths:\n",
    "    refs_path = refs_path / \"refs(berkeley).p\"\n",
    "    print(refs_path)\n",
    "    pickle.dump(fprefg_google_new.refs_data, open(refs_path, \"wb\"))"
   ]
  },
  {
   "cell_type": "code",
   "execution_count": null,
   "metadata": {},
   "outputs": [],
   "source": []
  },
  {
   "cell_type": "code",
   "execution_count": null,
   "metadata": {},
   "outputs": [],
   "source": []
  },
  {
   "cell_type": "code",
   "execution_count": null,
   "metadata": {},
   "outputs": [],
   "source": []
  },
  {
   "cell_type": "markdown",
   "metadata": {},
   "source": [
    "---\n",
    "\n",
    "---\n"
   ]
  },
  {
   "cell_type": "markdown",
   "metadata": {},
   "source": [
    "# Generate _exclusion Versions of refcocog\n",
    "\n",
    "Addresses contamination that would be caused by training on refcocog's train set and then evaluating on the val/test sets of refococo/refcoco+ splits."
   ]
  },
  {
   "cell_type": "code",
   "execution_count": 7,
   "metadata": {
    "tags": []
   },
   "outputs": [],
   "source": [
    "VALID_SPLITS = {\n",
    "    \"R-refcoco\": [\"unc\"],\n",
    "    \"R-refcoco+\": [\"unc\"],\n",
    "    \"R-refcocog\": [\"umd\"],\n",
    "    # \"refclef\": [\"berkeley\", \"unc\"],\n",
    "    \"refcoco\": [\"unc\"],  # [\"unc\", \"google\"],\n",
    "    \"refcoco+\": [\"unc\"],\n",
    "    # [\"umd\", \"google\"], # google and umd seem to be identical? THey have the same aggregate stats.\n",
    "    \"refcocog\": [\"umd\"],\n",
    "    # \"coconegref\": [\"berkeley\"],\n",
    "    \"fprefcoco_v002\": [\"berkeley\"],\n",
    "    \"fprefcoco+_v002\": [\"berkeley\"],\n",
    "    \"fprefcocog_v002\": [\"berkeley\"],\n",
    "}\n",
    "\n",
    "\n",
    "def build_refcoco(refseg_path: Path, dataset_name: str, split_by: str = None) -> COCO:\n",
    "    assert dataset_name in VALID_SPLITS, dataset_name\n",
    "    if split_by is None:\n",
    "        split_by = VALID_SPLITS[dataset_name][0]\n",
    "    else:\n",
    "        assert split_by in VALID_SPLITS[dataset_name]\n",
    "    coco = COCO(\n",
    "        refseg_path / dataset_name / \"instances.json\",\n",
    "        is_ref_dataset=True,\n",
    "        dataset_name=dataset_name,\n",
    "        split_by=split_by,\n",
    "    )\n",
    "    return coco"
   ]
  },
  {
   "cell_type": "markdown",
   "metadata": {},
   "source": [
    "## Load the Datasets"
   ]
  },
  {
   "cell_type": "code",
   "execution_count": 8,
   "metadata": {
    "tags": []
   },
   "outputs": [
    {
     "name": "stdout",
     "output_type": "stream",
     "text": [
      "\n",
      "\n",
      "\n",
      "============================================================================================================================================================================================================================\n",
      "Dataset: R-refcoco(unc)\n",
      "Loading refs from '/shared/gbiamby/data/refer_seg/R-refcoco/refs(unc).p'\n",
      "Loaded 50000 refs\n",
      "loading annotations into memory...\n",
      "Done (t=3.52s)\n",
      "creating index...\n",
      "index created!\n",
      "R-refcoco unc\n",
      "\n",
      "\n",
      "\n",
      "============================================================================================================================================================================================================================\n",
      "Dataset: R-refcoco+(unc)\n",
      "Loading refs from '/shared/gbiamby/data/refer_seg/R-refcoco+/refs(unc).p'\n",
      "Loaded 49856 refs\n",
      "loading annotations into memory...\n",
      "Done (t=4.59s)\n",
      "creating index...\n",
      "index created!\n",
      "R-refcoco+ unc\n",
      "\n",
      "\n",
      "\n",
      "============================================================================================================================================================================================================================\n",
      "Dataset: R-refcocog(umd)\n",
      "Loading refs from '/shared/gbiamby/data/refer_seg/R-refcocog/refs(umd).p'\n",
      "Loaded 49822 refs\n",
      "loading annotations into memory...\n",
      "Done (t=3.55s)\n",
      "creating index...\n",
      "index created!\n",
      "R-refcocog umd\n",
      "\n",
      "\n",
      "\n",
      "============================================================================================================================================================================================================================\n",
      "Dataset: refcoco(unc)\n",
      "Loading refs from '/shared/gbiamby/data/refer_seg/refcoco/refs(unc).p'\n",
      "Loaded 50000 refs\n",
      "loading annotations into memory...\n",
      "Done (t=1.10s)\n",
      "creating index...\n",
      "index created!\n",
      "refcoco unc\n",
      "\n",
      "\n",
      "\n",
      "============================================================================================================================================================================================================================\n",
      "Dataset: refcoco+(unc)\n",
      "Loading refs from '/shared/gbiamby/data/refer_seg/refcoco+/refs(unc).p'\n",
      "Loaded 49856 refs\n",
      "loading annotations into memory...\n",
      "Done (t=4.49s)\n",
      "creating index...\n",
      "index created!\n",
      "refcoco+ unc\n",
      "\n",
      "\n",
      "\n",
      "============================================================================================================================================================================================================================\n",
      "Dataset: refcocog(umd)\n",
      "Loading refs from '/shared/gbiamby/data/refer_seg/refcocog/refs(umd).p'\n",
      "Loaded 49822 refs\n",
      "loading annotations into memory...\n",
      "Done (t=5.31s)\n",
      "creating index...\n",
      "index created!\n",
      "refcocog umd\n",
      "\n",
      "\n",
      "\n",
      "============================================================================================================================================================================================================================\n",
      "Dataset: fprefcoco_v002(berkeley)\n",
      "Loading refs from '/shared/gbiamby/data/refer_seg/fprefcoco_v002/refs(berkeley).p'\n",
      "Loaded 50000 refs\n",
      "loading annotations into memory...\n",
      "Done (t=1.09s)\n",
      "creating index...\n",
      "index created!\n",
      "fprefcoco_v002 berkeley\n",
      "\n",
      "\n",
      "\n",
      "============================================================================================================================================================================================================================\n",
      "Dataset: fprefcoco+_v002(berkeley)\n",
      "Loading refs from '/shared/gbiamby/data/refer_seg/fprefcoco+_v002/refs(berkeley).p'\n",
      "Loaded 49856 refs\n",
      "loading annotations into memory...\n",
      "Done (t=1.09s)\n",
      "creating index...\n",
      "index created!\n",
      "fprefcoco+_v002 berkeley\n",
      "\n",
      "\n",
      "\n",
      "============================================================================================================================================================================================================================\n",
      "Dataset: fprefcocog_v002(berkeley)\n",
      "Loading refs from '/shared/gbiamby/data/refer_seg/fprefcocog_v002/refs(berkeley).p'\n",
      "Loaded 49822 refs\n",
      "loading annotations into memory...\n",
      "Done (t=1.12s)\n",
      "creating index...\n",
      "index created!\n",
      "fprefcocog_v002 berkeley\n"
     ]
    }
   ],
   "source": [
    "refcocos = []\n",
    "\n",
    "for dataset_name, split_bys in VALID_SPLITS.items():\n",
    "    for split_by in split_bys:\n",
    "        print(\"\\n\")\n",
    "        print(\"=\" * 220)\n",
    "        print(f\"Dataset: {dataset_name}({split_by})\")\n",
    "        ref_coco = build_refcoco(REFSEG_DIR, dataset_name, split_by)\n",
    "        print(ref_coco.dataset_name, ref_coco.split_by)\n",
    "        refcocos.append(ref_coco)"
   ]
  },
  {
   "cell_type": "markdown",
   "metadata": {},
   "source": [
    "## Get image_id's for all dataset/split pairs"
   ]
  },
  {
   "cell_type": "code",
   "execution_count": 16,
   "metadata": {
    "tags": []
   },
   "outputs": [
    {
     "name": "stdout",
     "output_type": "stream",
     "text": [
      "Dataset:  R-refcoco unc\n"
     ]
    },
    {
     "name": "stderr",
     "output_type": "stream",
     "text": [
      "100%|█████████████████████████████████████████████████████████████████████████████████████████████████████████████████████████████████████████████████████████████████████████████████████████████████████████████████████████████████████████████████████████████████████| 19994/19994 [00:00<00:00, 599773.38it/s]\n"
     ]
    },
    {
     "name": "stdout",
     "output_type": "stream",
     "text": [
      "split: train: 16994 total refs\n",
      "split: testB: 750 total refs\n",
      "split: testA: 750 total refs\n",
      "split: val: 1500 total refs\n",
      "Dataset:  R-refcoco+ unc\n"
     ]
    },
    {
     "name": "stderr",
     "output_type": "stream",
     "text": [
      "100%|█████████████████████████████████████████████████████████████████████████████████████████████████████████████████████████████████████████████████████████████████████████████████████████████████████████████████████████████████████████████████████████████████████| 19992/19992 [00:00<00:00, 721070.14it/s]\n"
     ]
    },
    {
     "name": "stdout",
     "output_type": "stream",
     "text": [
      "split: train: 16992 total refs\n",
      "split: testB: 750 total refs\n",
      "split: testA: 750 total refs\n",
      "split: val: 1500 total refs\n",
      "Dataset:  R-refcocog umd\n"
     ]
    },
    {
     "name": "stderr",
     "output_type": "stream",
     "text": [
      "100%|█████████████████████████████████████████████████████████████████████████████████████████████████████████████████████████████████████████████████████████████████████████████████████████████████████████████████████████████████████████████████████████████████████| 25799/25799 [00:00<00:00, 945014.18it/s]\n"
     ]
    },
    {
     "name": "stdout",
     "output_type": "stream",
     "text": [
      "split: test: 2600 total refs\n",
      "split: train: 21899 total refs\n",
      "split: val: 1300 total refs\n",
      "Dataset:  refcoco unc\n"
     ]
    },
    {
     "name": "stderr",
     "output_type": "stream",
     "text": [
      "100%|█████████████████████████████████████████████████████████████████████████████████████████████████████████████████████████████████████████████████████████████████████████████████████████████████████████████████████████████████████████████████████████████████████| 19994/19994 [00:00<00:00, 679332.78it/s]\n"
     ]
    },
    {
     "name": "stdout",
     "output_type": "stream",
     "text": [
      "split: train: 16994 total refs\n",
      "split: testB: 750 total refs\n",
      "split: testA: 750 total refs\n",
      "split: val: 1500 total refs\n",
      "Dataset:  refcoco+ unc\n"
     ]
    },
    {
     "name": "stderr",
     "output_type": "stream",
     "text": [
      "100%|█████████████████████████████████████████████████████████████████████████████████████████████████████████████████████████████████████████████████████████████████████████████████████████████████████████████████████████████████████████████████████████████████████| 19992/19992 [00:00<00:00, 624725.46it/s]\n"
     ]
    },
    {
     "name": "stdout",
     "output_type": "stream",
     "text": [
      "split: train: 16992 total refs\n",
      "split: testB: 750 total refs\n",
      "split: testA: 750 total refs\n",
      "split: val: 1500 total refs\n",
      "Dataset:  refcocog umd\n"
     ]
    },
    {
     "name": "stderr",
     "output_type": "stream",
     "text": [
      "100%|█████████████████████████████████████████████████████████████████████████████████████████████████████████████████████████████████████████████████████████████████████████████████████████████████████████████████████████████████████████████████████████████████████| 25799/25799 [00:00<00:00, 737881.52it/s]\n"
     ]
    },
    {
     "name": "stdout",
     "output_type": "stream",
     "text": [
      "split: test: 2600 total refs\n",
      "split: train: 21899 total refs\n",
      "split: val: 1300 total refs\n",
      "Dataset:  fprefcoco_v002 berkeley\n"
     ]
    },
    {
     "name": "stderr",
     "output_type": "stream",
     "text": [
      "100%|█████████████████████████████████████████████████████████████████████████████████████████████████████████████████████████████████████████████████████████████████████████████████████████████████████████████████████████████████████████████████████████████████████| 19994/19994 [00:00<00:00, 676898.17it/s]\n"
     ]
    },
    {
     "name": "stdout",
     "output_type": "stream",
     "text": [
      "split: val: 1500 total refs\n",
      "split: train: 16994 total refs\n",
      "split: testB: 750 total refs\n",
      "split: testA: 750 total refs\n",
      "Dataset:  fprefcoco+_v002 berkeley\n"
     ]
    },
    {
     "name": "stderr",
     "output_type": "stream",
     "text": [
      "100%|█████████████████████████████████████████████████████████████████████████████████████████████████████████████████████████████████████████████████████████████████████████████████████████████████████████████████████████████████████████████████████████████████████| 19992/19992 [00:00<00:00, 919657.43it/s]\n"
     ]
    },
    {
     "name": "stdout",
     "output_type": "stream",
     "text": [
      "split: train: 16992 total refs\n",
      "split: testB: 750 total refs\n",
      "split: testA: 750 total refs\n",
      "split: val: 1500 total refs\n",
      "Dataset:  fprefcocog_v002 berkeley\n"
     ]
    },
    {
     "name": "stderr",
     "output_type": "stream",
     "text": [
      "100%|█████████████████████████████████████████████████████████████████████████████████████████████████████████████████████████████████████████████████████████████████████████████████████████████████████████████████████████████████████████████████████████████████████| 25799/25799 [00:00<00:00, 913571.15it/s]"
     ]
    },
    {
     "name": "stdout",
     "output_type": "stream",
     "text": [
      "split: train: 21899 total refs\n",
      "split: val: 1300 total refs\n",
      "split: test: 2600 total refs\n"
     ]
    },
    {
     "name": "stderr",
     "output_type": "stream",
     "text": [
      "\n"
     ]
    }
   ],
   "source": [
    "def get_img_ids(refcoco: COCO) -> dict[str, set[int]]:\n",
    "    split_to_imgs = defaultdict(set)\n",
    "    for idx, (image_id, refs) in tqdm(\n",
    "        enumerate(refcoco.img_to_refs.items()), total=len(refcoco.img_to_refs)\n",
    "    ):\n",
    "        for ref in refs:\n",
    "            split_to_imgs[ref[\"split\"]].add(image_id)\n",
    "\n",
    "    # Output some stats:\n",
    "    for split, image_ids in split_to_imgs.items():\n",
    "        print(f\"split: {split}: {len(image_ids)} total refs\")\n",
    "    return split_to_imgs\n",
    "\n",
    "\n",
    "# split_ids_refcoco_unc = get_img_ids(refcoco_unc)\n",
    "# # split_ids_refg_umd = get_img_ids(refg_umd)\n",
    "# # split_ids_fprefg_berkeley = get_img_ids(fprefg_berkeley)\n",
    "# split_ids_refcoco_rrefg_g = get_img_ids(rrefg_g)\n",
    "\n",
    "split_img_ids = {}\n",
    "for refcoco in refcocos:\n",
    "    print(\"Dataset: \", refcoco.dataset_name, refcoco.split_by)\n",
    "    split_img_ids[(refcoco.dataset_name, refcoco.split_by)] = get_img_ids(refcoco)"
   ]
  },
  {
   "cell_type": "markdown",
   "metadata": {},
   "source": [
    "## Show the train/val/test Splits For Each Dataset"
   ]
  },
  {
   "cell_type": "code",
   "execution_count": 14,
   "metadata": {
    "collapsed": true,
    "jupyter": {
     "outputs_hidden": true
    },
    "tags": []
   },
   "outputs": [
    {
     "name": "stdout",
     "output_type": "stream",
     "text": [
      "Dataset:  R-refcoco unc\n"
     ]
    },
    {
     "data": {
      "text/html": [
       "<div>\n",
       "<style scoped>\n",
       "    .dataframe tbody tr th:only-of-type {\n",
       "        vertical-align: middle;\n",
       "    }\n",
       "\n",
       "    .dataframe tbody tr th {\n",
       "        vertical-align: top;\n",
       "    }\n",
       "\n",
       "    .dataframe thead th {\n",
       "        text-align: right;\n",
       "    }\n",
       "</style>\n",
       "<table border=\"1\" class=\"dataframe\">\n",
       "  <thead>\n",
       "    <tr style=\"text-align: right;\">\n",
       "      <th></th>\n",
       "      <th>refs</th>\n",
       "      <th>images</th>\n",
       "    </tr>\n",
       "    <tr>\n",
       "      <th>split</th>\n",
       "      <th></th>\n",
       "      <th></th>\n",
       "    </tr>\n",
       "  </thead>\n",
       "  <tbody>\n",
       "    <tr>\n",
       "      <th>testA</th>\n",
       "      <td>1975</td>\n",
       "      <td>750</td>\n",
       "    </tr>\n",
       "    <tr>\n",
       "      <th>testB</th>\n",
       "      <td>1810</td>\n",
       "      <td>750</td>\n",
       "    </tr>\n",
       "    <tr>\n",
       "      <th>train</th>\n",
       "      <td>42404</td>\n",
       "      <td>16994</td>\n",
       "    </tr>\n",
       "    <tr>\n",
       "      <th>val</th>\n",
       "      <td>3811</td>\n",
       "      <td>1500</td>\n",
       "    </tr>\n",
       "  </tbody>\n",
       "</table>\n",
       "</div>"
      ],
      "text/plain": [
       "        refs  images\n",
       "split               \n",
       "testA   1975     750\n",
       "testB   1810     750\n",
       "train  42404   16994\n",
       "val     3811    1500"
      ]
     },
     "metadata": {},
     "output_type": "display_data"
    },
    {
     "name": "stdout",
     "output_type": "stream",
     "text": [
      "Dataset:  R-refcoco+ unc\n"
     ]
    },
    {
     "data": {
      "text/html": [
       "<div>\n",
       "<style scoped>\n",
       "    .dataframe tbody tr th:only-of-type {\n",
       "        vertical-align: middle;\n",
       "    }\n",
       "\n",
       "    .dataframe tbody tr th {\n",
       "        vertical-align: top;\n",
       "    }\n",
       "\n",
       "    .dataframe thead th {\n",
       "        text-align: right;\n",
       "    }\n",
       "</style>\n",
       "<table border=\"1\" class=\"dataframe\">\n",
       "  <thead>\n",
       "    <tr style=\"text-align: right;\">\n",
       "      <th></th>\n",
       "      <th>refs</th>\n",
       "      <th>images</th>\n",
       "    </tr>\n",
       "    <tr>\n",
       "      <th>split</th>\n",
       "      <th></th>\n",
       "      <th></th>\n",
       "    </tr>\n",
       "  </thead>\n",
       "  <tbody>\n",
       "    <tr>\n",
       "      <th>testA</th>\n",
       "      <td>1975</td>\n",
       "      <td>750</td>\n",
       "    </tr>\n",
       "    <tr>\n",
       "      <th>testB</th>\n",
       "      <td>1798</td>\n",
       "      <td>750</td>\n",
       "    </tr>\n",
       "    <tr>\n",
       "      <th>train</th>\n",
       "      <td>42278</td>\n",
       "      <td>16992</td>\n",
       "    </tr>\n",
       "    <tr>\n",
       "      <th>val</th>\n",
       "      <td>3805</td>\n",
       "      <td>1500</td>\n",
       "    </tr>\n",
       "  </tbody>\n",
       "</table>\n",
       "</div>"
      ],
      "text/plain": [
       "        refs  images\n",
       "split               \n",
       "testA   1975     750\n",
       "testB   1798     750\n",
       "train  42278   16992\n",
       "val     3805    1500"
      ]
     },
     "metadata": {},
     "output_type": "display_data"
    },
    {
     "name": "stdout",
     "output_type": "stream",
     "text": [
      "Dataset:  R-refcocog umd\n"
     ]
    },
    {
     "data": {
      "text/html": [
       "<div>\n",
       "<style scoped>\n",
       "    .dataframe tbody tr th:only-of-type {\n",
       "        vertical-align: middle;\n",
       "    }\n",
       "\n",
       "    .dataframe tbody tr th {\n",
       "        vertical-align: top;\n",
       "    }\n",
       "\n",
       "    .dataframe thead th {\n",
       "        text-align: right;\n",
       "    }\n",
       "</style>\n",
       "<table border=\"1\" class=\"dataframe\">\n",
       "  <thead>\n",
       "    <tr style=\"text-align: right;\">\n",
       "      <th></th>\n",
       "      <th>refs</th>\n",
       "      <th>images</th>\n",
       "    </tr>\n",
       "    <tr>\n",
       "      <th>split</th>\n",
       "      <th></th>\n",
       "      <th></th>\n",
       "    </tr>\n",
       "  </thead>\n",
       "  <tbody>\n",
       "    <tr>\n",
       "      <th>test</th>\n",
       "      <td>5023</td>\n",
       "      <td>2600</td>\n",
       "    </tr>\n",
       "    <tr>\n",
       "      <th>train</th>\n",
       "      <td>42226</td>\n",
       "      <td>21899</td>\n",
       "    </tr>\n",
       "    <tr>\n",
       "      <th>val</th>\n",
       "      <td>2573</td>\n",
       "      <td>1300</td>\n",
       "    </tr>\n",
       "  </tbody>\n",
       "</table>\n",
       "</div>"
      ],
      "text/plain": [
       "        refs  images\n",
       "split               \n",
       "test    5023    2600\n",
       "train  42226   21899\n",
       "val     2573    1300"
      ]
     },
     "metadata": {},
     "output_type": "display_data"
    },
    {
     "name": "stdout",
     "output_type": "stream",
     "text": [
      "Dataset:  refcoco unc\n"
     ]
    },
    {
     "data": {
      "text/html": [
       "<div>\n",
       "<style scoped>\n",
       "    .dataframe tbody tr th:only-of-type {\n",
       "        vertical-align: middle;\n",
       "    }\n",
       "\n",
       "    .dataframe tbody tr th {\n",
       "        vertical-align: top;\n",
       "    }\n",
       "\n",
       "    .dataframe thead th {\n",
       "        text-align: right;\n",
       "    }\n",
       "</style>\n",
       "<table border=\"1\" class=\"dataframe\">\n",
       "  <thead>\n",
       "    <tr style=\"text-align: right;\">\n",
       "      <th></th>\n",
       "      <th>refs</th>\n",
       "      <th>images</th>\n",
       "    </tr>\n",
       "    <tr>\n",
       "      <th>split</th>\n",
       "      <th></th>\n",
       "      <th></th>\n",
       "    </tr>\n",
       "  </thead>\n",
       "  <tbody>\n",
       "    <tr>\n",
       "      <th>testA</th>\n",
       "      <td>1975</td>\n",
       "      <td>750</td>\n",
       "    </tr>\n",
       "    <tr>\n",
       "      <th>testB</th>\n",
       "      <td>1810</td>\n",
       "      <td>750</td>\n",
       "    </tr>\n",
       "    <tr>\n",
       "      <th>train</th>\n",
       "      <td>42404</td>\n",
       "      <td>16994</td>\n",
       "    </tr>\n",
       "    <tr>\n",
       "      <th>val</th>\n",
       "      <td>3811</td>\n",
       "      <td>1500</td>\n",
       "    </tr>\n",
       "  </tbody>\n",
       "</table>\n",
       "</div>"
      ],
      "text/plain": [
       "        refs  images\n",
       "split               \n",
       "testA   1975     750\n",
       "testB   1810     750\n",
       "train  42404   16994\n",
       "val     3811    1500"
      ]
     },
     "metadata": {},
     "output_type": "display_data"
    },
    {
     "name": "stdout",
     "output_type": "stream",
     "text": [
      "Dataset:  refcoco+ unc\n"
     ]
    },
    {
     "data": {
      "text/html": [
       "<div>\n",
       "<style scoped>\n",
       "    .dataframe tbody tr th:only-of-type {\n",
       "        vertical-align: middle;\n",
       "    }\n",
       "\n",
       "    .dataframe tbody tr th {\n",
       "        vertical-align: top;\n",
       "    }\n",
       "\n",
       "    .dataframe thead th {\n",
       "        text-align: right;\n",
       "    }\n",
       "</style>\n",
       "<table border=\"1\" class=\"dataframe\">\n",
       "  <thead>\n",
       "    <tr style=\"text-align: right;\">\n",
       "      <th></th>\n",
       "      <th>refs</th>\n",
       "      <th>images</th>\n",
       "    </tr>\n",
       "    <tr>\n",
       "      <th>split</th>\n",
       "      <th></th>\n",
       "      <th></th>\n",
       "    </tr>\n",
       "  </thead>\n",
       "  <tbody>\n",
       "    <tr>\n",
       "      <th>testA</th>\n",
       "      <td>1975</td>\n",
       "      <td>750</td>\n",
       "    </tr>\n",
       "    <tr>\n",
       "      <th>testB</th>\n",
       "      <td>1798</td>\n",
       "      <td>750</td>\n",
       "    </tr>\n",
       "    <tr>\n",
       "      <th>train</th>\n",
       "      <td>42278</td>\n",
       "      <td>16992</td>\n",
       "    </tr>\n",
       "    <tr>\n",
       "      <th>val</th>\n",
       "      <td>3805</td>\n",
       "      <td>1500</td>\n",
       "    </tr>\n",
       "  </tbody>\n",
       "</table>\n",
       "</div>"
      ],
      "text/plain": [
       "        refs  images\n",
       "split               \n",
       "testA   1975     750\n",
       "testB   1798     750\n",
       "train  42278   16992\n",
       "val     3805    1500"
      ]
     },
     "metadata": {},
     "output_type": "display_data"
    },
    {
     "name": "stdout",
     "output_type": "stream",
     "text": [
      "Dataset:  refcocog umd\n"
     ]
    },
    {
     "data": {
      "text/html": [
       "<div>\n",
       "<style scoped>\n",
       "    .dataframe tbody tr th:only-of-type {\n",
       "        vertical-align: middle;\n",
       "    }\n",
       "\n",
       "    .dataframe tbody tr th {\n",
       "        vertical-align: top;\n",
       "    }\n",
       "\n",
       "    .dataframe thead th {\n",
       "        text-align: right;\n",
       "    }\n",
       "</style>\n",
       "<table border=\"1\" class=\"dataframe\">\n",
       "  <thead>\n",
       "    <tr style=\"text-align: right;\">\n",
       "      <th></th>\n",
       "      <th>refs</th>\n",
       "      <th>images</th>\n",
       "    </tr>\n",
       "    <tr>\n",
       "      <th>split</th>\n",
       "      <th></th>\n",
       "      <th></th>\n",
       "    </tr>\n",
       "  </thead>\n",
       "  <tbody>\n",
       "    <tr>\n",
       "      <th>test</th>\n",
       "      <td>5023</td>\n",
       "      <td>2600</td>\n",
       "    </tr>\n",
       "    <tr>\n",
       "      <th>train</th>\n",
       "      <td>42226</td>\n",
       "      <td>21899</td>\n",
       "    </tr>\n",
       "    <tr>\n",
       "      <th>val</th>\n",
       "      <td>2573</td>\n",
       "      <td>1300</td>\n",
       "    </tr>\n",
       "  </tbody>\n",
       "</table>\n",
       "</div>"
      ],
      "text/plain": [
       "        refs  images\n",
       "split               \n",
       "test    5023    2600\n",
       "train  42226   21899\n",
       "val     2573    1300"
      ]
     },
     "metadata": {},
     "output_type": "display_data"
    },
    {
     "name": "stdout",
     "output_type": "stream",
     "text": [
      "Dataset:  fprefcoco_v002 berkeley\n"
     ]
    },
    {
     "data": {
      "text/html": [
       "<div>\n",
       "<style scoped>\n",
       "    .dataframe tbody tr th:only-of-type {\n",
       "        vertical-align: middle;\n",
       "    }\n",
       "\n",
       "    .dataframe tbody tr th {\n",
       "        vertical-align: top;\n",
       "    }\n",
       "\n",
       "    .dataframe thead th {\n",
       "        text-align: right;\n",
       "    }\n",
       "</style>\n",
       "<table border=\"1\" class=\"dataframe\">\n",
       "  <thead>\n",
       "    <tr style=\"text-align: right;\">\n",
       "      <th></th>\n",
       "      <th>refs</th>\n",
       "      <th>images</th>\n",
       "    </tr>\n",
       "    <tr>\n",
       "      <th>split</th>\n",
       "      <th></th>\n",
       "      <th></th>\n",
       "    </tr>\n",
       "  </thead>\n",
       "  <tbody>\n",
       "    <tr>\n",
       "      <th>testA</th>\n",
       "      <td>1975</td>\n",
       "      <td>750</td>\n",
       "    </tr>\n",
       "    <tr>\n",
       "      <th>testB</th>\n",
       "      <td>1810</td>\n",
       "      <td>750</td>\n",
       "    </tr>\n",
       "    <tr>\n",
       "      <th>train</th>\n",
       "      <td>42404</td>\n",
       "      <td>16994</td>\n",
       "    </tr>\n",
       "    <tr>\n",
       "      <th>val</th>\n",
       "      <td>3811</td>\n",
       "      <td>1500</td>\n",
       "    </tr>\n",
       "  </tbody>\n",
       "</table>\n",
       "</div>"
      ],
      "text/plain": [
       "        refs  images\n",
       "split               \n",
       "testA   1975     750\n",
       "testB   1810     750\n",
       "train  42404   16994\n",
       "val     3811    1500"
      ]
     },
     "metadata": {},
     "output_type": "display_data"
    },
    {
     "name": "stdout",
     "output_type": "stream",
     "text": [
      "Dataset:  fprefcoco+_v002 berkeley\n"
     ]
    },
    {
     "data": {
      "text/html": [
       "<div>\n",
       "<style scoped>\n",
       "    .dataframe tbody tr th:only-of-type {\n",
       "        vertical-align: middle;\n",
       "    }\n",
       "\n",
       "    .dataframe tbody tr th {\n",
       "        vertical-align: top;\n",
       "    }\n",
       "\n",
       "    .dataframe thead th {\n",
       "        text-align: right;\n",
       "    }\n",
       "</style>\n",
       "<table border=\"1\" class=\"dataframe\">\n",
       "  <thead>\n",
       "    <tr style=\"text-align: right;\">\n",
       "      <th></th>\n",
       "      <th>refs</th>\n",
       "      <th>images</th>\n",
       "    </tr>\n",
       "    <tr>\n",
       "      <th>split</th>\n",
       "      <th></th>\n",
       "      <th></th>\n",
       "    </tr>\n",
       "  </thead>\n",
       "  <tbody>\n",
       "    <tr>\n",
       "      <th>testA</th>\n",
       "      <td>1975</td>\n",
       "      <td>750</td>\n",
       "    </tr>\n",
       "    <tr>\n",
       "      <th>testB</th>\n",
       "      <td>1798</td>\n",
       "      <td>750</td>\n",
       "    </tr>\n",
       "    <tr>\n",
       "      <th>train</th>\n",
       "      <td>42278</td>\n",
       "      <td>16992</td>\n",
       "    </tr>\n",
       "    <tr>\n",
       "      <th>val</th>\n",
       "      <td>3805</td>\n",
       "      <td>1500</td>\n",
       "    </tr>\n",
       "  </tbody>\n",
       "</table>\n",
       "</div>"
      ],
      "text/plain": [
       "        refs  images\n",
       "split               \n",
       "testA   1975     750\n",
       "testB   1798     750\n",
       "train  42278   16992\n",
       "val     3805    1500"
      ]
     },
     "metadata": {},
     "output_type": "display_data"
    },
    {
     "name": "stdout",
     "output_type": "stream",
     "text": [
      "Dataset:  fprefcocog_v002 berkeley\n"
     ]
    },
    {
     "data": {
      "text/html": [
       "<div>\n",
       "<style scoped>\n",
       "    .dataframe tbody tr th:only-of-type {\n",
       "        vertical-align: middle;\n",
       "    }\n",
       "\n",
       "    .dataframe tbody tr th {\n",
       "        vertical-align: top;\n",
       "    }\n",
       "\n",
       "    .dataframe thead th {\n",
       "        text-align: right;\n",
       "    }\n",
       "</style>\n",
       "<table border=\"1\" class=\"dataframe\">\n",
       "  <thead>\n",
       "    <tr style=\"text-align: right;\">\n",
       "      <th></th>\n",
       "      <th>refs</th>\n",
       "      <th>images</th>\n",
       "    </tr>\n",
       "    <tr>\n",
       "      <th>split</th>\n",
       "      <th></th>\n",
       "      <th></th>\n",
       "    </tr>\n",
       "  </thead>\n",
       "  <tbody>\n",
       "    <tr>\n",
       "      <th>test</th>\n",
       "      <td>5023</td>\n",
       "      <td>2600</td>\n",
       "    </tr>\n",
       "    <tr>\n",
       "      <th>train</th>\n",
       "      <td>42226</td>\n",
       "      <td>21899</td>\n",
       "    </tr>\n",
       "    <tr>\n",
       "      <th>val</th>\n",
       "      <td>2573</td>\n",
       "      <td>1300</td>\n",
       "    </tr>\n",
       "  </tbody>\n",
       "</table>\n",
       "</div>"
      ],
      "text/plain": [
       "        refs  images\n",
       "split               \n",
       "test    5023    2600\n",
       "train  42226   21899\n",
       "val     2573    1300"
      ]
     },
     "metadata": {},
     "output_type": "display_data"
    }
   ],
   "source": [
    "def show_train_val_test(refcoco: COCO):\n",
    "    refs_list = []\n",
    "    for ref in refcoco.refs.values():\n",
    "        refs_list.append(\n",
    "            {\n",
    "                \"ref_id\": ref[\"ref_id\"],\n",
    "                \"split\": ref[\"split\"],\n",
    "                \"image_id\": ref[\"image_id\"],\n",
    "            }\n",
    "        )\n",
    "    df_refs = pd.DataFrame(refs_list)\n",
    "    display(\n",
    "        df_refs.groupby(\"split\").agg(\n",
    "            refs=(\"ref_id\", \"nunique\"), images=(\"image_id\", \"nunique\")\n",
    "        )\n",
    "    )\n",
    "\n",
    "\n",
    "for refcoco in refcocos:\n",
    "    print(\"Dataset: \", refcoco.dataset_name, refcoco.split_by)\n",
    "    show_train_val_test(refcoco)"
   ]
  },
  {
   "cell_type": "markdown",
   "metadata": {},
   "source": [
    "## Generate New refseg COCO Objects, with test/val Images Excluded from All Train Splits "
   ]
  },
  {
   "cell_type": "code",
   "execution_count": 18,
   "metadata": {
    "tags": []
   },
   "outputs": [
    {
     "name": "stdout",
     "output_type": "stream",
     "text": [
      "Dataset:  R-refcoco unc\n",
      "Cloning refcoco...\n",
      "Gathering all val/test image_ids...\n",
      "including non-train source split:  testB 750\n",
      "including non-train source split:  testA 750\n",
      "including non-train source split:  val 1500\n",
      "including non-train source split:  testB 750\n",
      "including non-train source split:  testA 750\n",
      "including non-train source split:  val 1500\n",
      "including non-train source split:  test 2600\n",
      "including non-train source split:  val 1300\n",
      "including non-train source split:  testB 750\n",
      "including non-train source split:  testA 750\n",
      "including non-train source split:  val 1500\n",
      "including non-train source split:  testB 750\n",
      "including non-train source split:  testA 750\n",
      "including non-train source split:  val 1500\n",
      "including non-train source split:  test 2600\n",
      "including non-train source split:  val 1300\n",
      "including non-train source split:  val 1500\n",
      "including non-train source split:  testB 750\n",
      "including non-train source split:  testA 750\n",
      "including non-train source split:  testB 750\n",
      "including non-train source split:  testA 750\n",
      "including non-train source split:  val 1500\n",
      "including non-train source split:  val 1300\n",
      "including non-train source split:  test 2600\n",
      "test_split_images:  6549\n",
      "Excluding val/test images from target refcoco...\n"
     ]
    },
    {
     "name": "stderr",
     "output_type": "stream",
     "text": [
      "100%|█████████████████████████████████████████████████████████████████████████████████████████████████████████████████████████████████████████████████████████████████████████████████████████████████████████████████████████████████████████████████████████████████████| 19994/19994 [00:00<00:00, 995819.10it/s]"
     ]
    },
    {
     "name": "stdout",
     "output_type": "stream",
     "text": [
      "num_train: 42404, num_updates: 4470, num_imgs_removed: 1891\n",
      "Dataset:  R-refcoco+ unc\n",
      "Cloning refcoco...\n"
     ]
    },
    {
     "name": "stderr",
     "output_type": "stream",
     "text": [
      "\n"
     ]
    },
    {
     "name": "stdout",
     "output_type": "stream",
     "text": [
      "Gathering all val/test image_ids...\n",
      "including non-train source split:  testB 750\n",
      "including non-train source split:  testA 750\n",
      "including non-train source split:  val 1500\n",
      "including non-train source split:  testB 750\n",
      "including non-train source split:  testA 750\n",
      "including non-train source split:  val 1500\n",
      "including non-train source split:  test 2600\n",
      "including non-train source split:  val 1300\n",
      "including non-train source split:  testB 750\n",
      "including non-train source split:  testA 750\n",
      "including non-train source split:  val 1500\n",
      "including non-train source split:  testB 750\n",
      "including non-train source split:  testA 750\n",
      "including non-train source split:  val 1500\n",
      "including non-train source split:  test 2600\n",
      "including non-train source split:  val 1300\n",
      "including non-train source split:  val 1500\n",
      "including non-train source split:  testB 750\n",
      "including non-train source split:  testA 750\n",
      "including non-train source split:  testB 750\n",
      "including non-train source split:  testA 750\n",
      "including non-train source split:  val 1500\n",
      "including non-train source split:  val 1300\n",
      "including non-train source split:  test 2600\n",
      "test_split_images:  6549\n",
      "Excluding val/test images from target refcoco...\n"
     ]
    },
    {
     "name": "stderr",
     "output_type": "stream",
     "text": [
      "100%|█████████████████████████████████████████████████████████████████████████████████████████████████████████████████████████████████████████████████████████████████████████████████████████████████████████████████████████████████████████████████████████████████████| 19992/19992 [00:00<00:00, 949352.69it/s]"
     ]
    },
    {
     "name": "stdout",
     "output_type": "stream",
     "text": [
      "num_train: 42278, num_updates: 4461, num_imgs_removed: 1891\n",
      "Dataset:  R-refcocog umd\n",
      "Cloning refcoco...\n"
     ]
    },
    {
     "name": "stderr",
     "output_type": "stream",
     "text": [
      "\n"
     ]
    },
    {
     "name": "stdout",
     "output_type": "stream",
     "text": [
      "Gathering all val/test image_ids...\n",
      "including non-train source split:  testB 750\n",
      "including non-train source split:  testA 750\n",
      "including non-train source split:  val 1500\n",
      "including non-train source split:  testB 750\n",
      "including non-train source split:  testA 750\n",
      "including non-train source split:  val 1500\n",
      "including non-train source split:  test 2600\n",
      "including non-train source split:  val 1300\n",
      "including non-train source split:  testB 750\n",
      "including non-train source split:  testA 750\n",
      "including non-train source split:  val 1500\n",
      "including non-train source split:  testB 750\n",
      "including non-train source split:  testA 750\n",
      "including non-train source split:  val 1500\n",
      "including non-train source split:  test 2600\n",
      "including non-train source split:  val 1300\n",
      "including non-train source split:  val 1500\n",
      "including non-train source split:  testB 750\n",
      "including non-train source split:  testA 750\n",
      "including non-train source split:  testB 750\n",
      "including non-train source split:  testA 750\n",
      "including non-train source split:  val 1500\n",
      "including non-train source split:  val 1300\n",
      "including non-train source split:  test 2600\n",
      "test_split_images:  6549\n",
      "Excluding val/test images from target refcoco...\n"
     ]
    },
    {
     "name": "stderr",
     "output_type": "stream",
     "text": [
      "100%|████████████████████████████████████████████████████████████████████████████████████████████████████████████████████████████████████████████████████████████████████████████████████████████████████████████████████████████████████████████████████████████████████| 25799/25799 [00:00<00:00, 1001943.06it/s]"
     ]
    },
    {
     "name": "stdout",
     "output_type": "stream",
     "text": [
      "num_train: 42226, num_updates: 4276, num_imgs_removed: 1860\n",
      "Dataset:  refcoco unc\n",
      "Cloning refcoco...\n"
     ]
    },
    {
     "name": "stderr",
     "output_type": "stream",
     "text": [
      "\n"
     ]
    },
    {
     "name": "stdout",
     "output_type": "stream",
     "text": [
      "Gathering all val/test image_ids...\n",
      "including non-train source split:  testB 750\n",
      "including non-train source split:  testA 750\n",
      "including non-train source split:  val 1500\n",
      "including non-train source split:  testB 750\n",
      "including non-train source split:  testA 750\n",
      "including non-train source split:  val 1500\n",
      "including non-train source split:  test 2600\n",
      "including non-train source split:  val 1300\n",
      "including non-train source split:  testB 750\n",
      "including non-train source split:  testA 750\n",
      "including non-train source split:  val 1500\n",
      "including non-train source split:  testB 750\n",
      "including non-train source split:  testA 750\n",
      "including non-train source split:  val 1500\n",
      "including non-train source split:  test 2600\n",
      "including non-train source split:  val 1300\n",
      "including non-train source split:  val 1500\n",
      "including non-train source split:  testB 750\n",
      "including non-train source split:  testA 750\n",
      "including non-train source split:  testB 750\n",
      "including non-train source split:  testA 750\n",
      "including non-train source split:  val 1500\n",
      "including non-train source split:  val 1300\n",
      "including non-train source split:  test 2600\n",
      "test_split_images:  6549\n",
      "Excluding val/test images from target refcoco...\n"
     ]
    },
    {
     "name": "stderr",
     "output_type": "stream",
     "text": [
      "100%|████████████████████████████████████████████████████████████████████████████████████████████████████████████████████████████████████████████████████████████████████████████████████████████████████████████████████████████████████████████████████████████████████| 19994/19994 [00:00<00:00, 1049967.62it/s]"
     ]
    },
    {
     "name": "stdout",
     "output_type": "stream",
     "text": [
      "num_train: 42404, num_updates: 4470, num_imgs_removed: 1891\n",
      "Dataset:  refcoco+ unc\n",
      "Cloning refcoco...\n"
     ]
    },
    {
     "name": "stderr",
     "output_type": "stream",
     "text": [
      "\n"
     ]
    },
    {
     "name": "stdout",
     "output_type": "stream",
     "text": [
      "Gathering all val/test image_ids...\n",
      "including non-train source split:  testB 750\n",
      "including non-train source split:  testA 750\n",
      "including non-train source split:  val 1500\n",
      "including non-train source split:  testB 750\n",
      "including non-train source split:  testA 750\n",
      "including non-train source split:  val 1500\n",
      "including non-train source split:  test 2600\n",
      "including non-train source split:  val 1300\n",
      "including non-train source split:  testB 750\n",
      "including non-train source split:  testA 750\n",
      "including non-train source split:  val 1500\n",
      "including non-train source split:  testB 750\n",
      "including non-train source split:  testA 750\n",
      "including non-train source split:  val 1500\n",
      "including non-train source split:  test 2600\n",
      "including non-train source split:  val 1300\n",
      "including non-train source split:  val 1500\n",
      "including non-train source split:  testB 750\n",
      "including non-train source split:  testA 750\n",
      "including non-train source split:  testB 750\n",
      "including non-train source split:  testA 750\n",
      "including non-train source split:  val 1500\n",
      "including non-train source split:  val 1300\n",
      "including non-train source split:  test 2600\n",
      "test_split_images:  6549\n",
      "Excluding val/test images from target refcoco...\n"
     ]
    },
    {
     "name": "stderr",
     "output_type": "stream",
     "text": [
      "100%|█████████████████████████████████████████████████████████████████████████████████████████████████████████████████████████████████████████████████████████████████████████████████████████████████████████████████████████████████████████████████████████████████████| 19992/19992 [00:00<00:00, 996998.10it/s]"
     ]
    },
    {
     "name": "stdout",
     "output_type": "stream",
     "text": [
      "num_train: 42278, num_updates: 4461, num_imgs_removed: 1891\n",
      "Dataset:  refcocog umd\n",
      "Cloning refcoco...\n"
     ]
    },
    {
     "name": "stderr",
     "output_type": "stream",
     "text": [
      "\n"
     ]
    },
    {
     "name": "stdout",
     "output_type": "stream",
     "text": [
      "Gathering all val/test image_ids...\n",
      "including non-train source split:  testB 750\n",
      "including non-train source split:  testA 750\n",
      "including non-train source split:  val 1500\n",
      "including non-train source split:  testB 750\n",
      "including non-train source split:  testA 750\n",
      "including non-train source split:  val 1500\n",
      "including non-train source split:  test 2600\n",
      "including non-train source split:  val 1300\n",
      "including non-train source split:  testB 750\n",
      "including non-train source split:  testA 750\n",
      "including non-train source split:  val 1500\n",
      "including non-train source split:  testB 750\n",
      "including non-train source split:  testA 750\n",
      "including non-train source split:  val 1500\n",
      "including non-train source split:  test 2600\n",
      "including non-train source split:  val 1300\n",
      "including non-train source split:  val 1500\n",
      "including non-train source split:  testB 750\n",
      "including non-train source split:  testA 750\n",
      "including non-train source split:  testB 750\n",
      "including non-train source split:  testA 750\n",
      "including non-train source split:  val 1500\n",
      "including non-train source split:  val 1300\n",
      "including non-train source split:  test 2600\n",
      "test_split_images:  6549\n",
      "Excluding val/test images from target refcoco...\n"
     ]
    },
    {
     "name": "stderr",
     "output_type": "stream",
     "text": [
      "100%|█████████████████████████████████████████████████████████████████████████████████████████████████████████████████████████████████████████████████████████████████████████████████████████████████████████████████████████████████████████████████████████████████████| 25799/25799 [00:00<00:00, 985212.54it/s]"
     ]
    },
    {
     "name": "stdout",
     "output_type": "stream",
     "text": [
      "num_train: 42226, num_updates: 4276, num_imgs_removed: 1860\n",
      "Dataset:  fprefcoco_v002 berkeley\n",
      "Cloning refcoco...\n"
     ]
    },
    {
     "name": "stderr",
     "output_type": "stream",
     "text": [
      "\n"
     ]
    },
    {
     "name": "stdout",
     "output_type": "stream",
     "text": [
      "Gathering all val/test image_ids...\n",
      "including non-train source split:  testB 750\n",
      "including non-train source split:  testA 750\n",
      "including non-train source split:  val 1500\n",
      "including non-train source split:  testB 750\n",
      "including non-train source split:  testA 750\n",
      "including non-train source split:  val 1500\n",
      "including non-train source split:  test 2600\n",
      "including non-train source split:  val 1300\n",
      "including non-train source split:  testB 750\n",
      "including non-train source split:  testA 750\n",
      "including non-train source split:  val 1500\n",
      "including non-train source split:  testB 750\n",
      "including non-train source split:  testA 750\n",
      "including non-train source split:  val 1500\n",
      "including non-train source split:  test 2600\n",
      "including non-train source split:  val 1300\n",
      "including non-train source split:  val 1500\n",
      "including non-train source split:  testB 750\n",
      "including non-train source split:  testA 750\n",
      "including non-train source split:  testB 750\n",
      "including non-train source split:  testA 750\n",
      "including non-train source split:  val 1500\n",
      "including non-train source split:  val 1300\n",
      "including non-train source split:  test 2600\n",
      "test_split_images:  6549\n",
      "Excluding val/test images from target refcoco...\n"
     ]
    },
    {
     "name": "stderr",
     "output_type": "stream",
     "text": [
      "100%|█████████████████████████████████████████████████████████████████████████████████████████████████████████████████████████████████████████████████████████████████████████████████████████████████████████████████████████████████████████████████████████████████████| 19994/19994 [00:00<00:00, 670174.25it/s]"
     ]
    },
    {
     "name": "stdout",
     "output_type": "stream",
     "text": [
      "num_train: 42404, num_updates: 4470, num_imgs_removed: 1891\n",
      "Dataset:  fprefcoco+_v002 berkeley\n",
      "Cloning refcoco...\n"
     ]
    },
    {
     "name": "stderr",
     "output_type": "stream",
     "text": [
      "\n"
     ]
    },
    {
     "name": "stdout",
     "output_type": "stream",
     "text": [
      "Gathering all val/test image_ids...\n",
      "including non-train source split:  testB 750\n",
      "including non-train source split:  testA 750\n",
      "including non-train source split:  val 1500\n",
      "including non-train source split:  testB 750\n",
      "including non-train source split:  testA 750\n",
      "including non-train source split:  val 1500\n",
      "including non-train source split:  test 2600\n",
      "including non-train source split:  val 1300\n",
      "including non-train source split:  testB 750\n",
      "including non-train source split:  testA 750\n",
      "including non-train source split:  val 1500\n",
      "including non-train source split:  testB 750\n",
      "including non-train source split:  testA 750\n",
      "including non-train source split:  val 1500\n",
      "including non-train source split:  test 2600\n",
      "including non-train source split:  val 1300\n",
      "including non-train source split:  val 1500\n",
      "including non-train source split:  testB 750\n",
      "including non-train source split:  testA 750\n",
      "including non-train source split:  testB 750\n",
      "including non-train source split:  testA 750\n",
      "including non-train source split:  val 1500\n",
      "including non-train source split:  val 1300\n",
      "including non-train source split:  test 2600\n",
      "test_split_images:  6549\n",
      "Excluding val/test images from target refcoco...\n"
     ]
    },
    {
     "name": "stderr",
     "output_type": "stream",
     "text": [
      "100%|█████████████████████████████████████████████████████████████████████████████████████████████████████████████████████████████████████████████████████████████████████████████████████████████████████████████████████████████████████████████████████████████████████| 19992/19992 [00:00<00:00, 827813.35it/s]"
     ]
    },
    {
     "name": "stdout",
     "output_type": "stream",
     "text": [
      "num_train: 42278, num_updates: 4461, num_imgs_removed: 1891\n",
      "Dataset:  fprefcocog_v002 berkeley\n",
      "Cloning refcoco...\n"
     ]
    },
    {
     "name": "stderr",
     "output_type": "stream",
     "text": [
      "\n"
     ]
    },
    {
     "name": "stdout",
     "output_type": "stream",
     "text": [
      "Gathering all val/test image_ids...\n",
      "including non-train source split:  testB 750\n",
      "including non-train source split:  testA 750\n",
      "including non-train source split:  val 1500\n",
      "including non-train source split:  testB 750\n",
      "including non-train source split:  testA 750\n",
      "including non-train source split:  val 1500\n",
      "including non-train source split:  test 2600\n",
      "including non-train source split:  val 1300\n",
      "including non-train source split:  testB 750\n",
      "including non-train source split:  testA 750\n",
      "including non-train source split:  val 1500\n",
      "including non-train source split:  testB 750\n",
      "including non-train source split:  testA 750\n",
      "including non-train source split:  val 1500\n",
      "including non-train source split:  test 2600\n",
      "including non-train source split:  val 1300\n",
      "including non-train source split:  val 1500\n",
      "including non-train source split:  testB 750\n",
      "including non-train source split:  testA 750\n",
      "including non-train source split:  testB 750\n",
      "including non-train source split:  testA 750\n",
      "including non-train source split:  val 1500\n",
      "including non-train source split:  val 1300\n",
      "including non-train source split:  test 2600\n",
      "test_split_images:  6549\n",
      "Excluding val/test images from target refcoco...\n"
     ]
    },
    {
     "name": "stderr",
     "output_type": "stream",
     "text": [
      "100%|█████████████████████████████████████████████████████████████████████████████████████████████████████████████████████████████████████████████████████████████████████████████████████████████████████████████████████████████████████████████████████████████████████| 25799/25799 [00:00<00:00, 868414.98it/s]"
     ]
    },
    {
     "name": "stdout",
     "output_type": "stream",
     "text": [
      "num_train: 42226, num_updates: 4276, num_imgs_removed: 1860\n"
     ]
    },
    {
     "name": "stderr",
     "output_type": "stream",
     "text": [
      "\n"
     ]
    }
   ],
   "source": [
    "def exclude_images(\n",
    "    split_images_sources: list[dict[str, set[int]]], refcoco_target: COCO\n",
    "):\n",
    "    print(\"Cloning refcoco...\")\n",
    "    refcoco_target = deepcopy(refcoco_target)\n",
    "\n",
    "    print(\"Gathering all val/test image_ids...\")\n",
    "    test_split_images = set()\n",
    "    for split_images_source in split_images_sources.values():\n",
    "        for split, imgs in split_images_source.items():\n",
    "            if not split.startswith(\"train\"):\n",
    "                print(\"including non-train source split: \", split, len(imgs))\n",
    "                test_split_images |= imgs\n",
    "    print(\"test_split_images: \", len(test_split_images))\n",
    "\n",
    "    # Exclude test_slit_images from the target\n",
    "    print(\"Excluding val/test images from target refcoco...\")\n",
    "    removed = set()\n",
    "    num_updates = 0\n",
    "    num_train = 0\n",
    "    for idx, (image_id, refs) in tqdm(\n",
    "        enumerate(refcoco_target.img_to_refs.items()),\n",
    "        total=len(refcoco_target.img_to_refs),\n",
    "    ):\n",
    "        for ref in refs:\n",
    "            if ref[\"split\"] == \"train\":\n",
    "                num_train += 1\n",
    "                if ref[\"image_id\"] in test_split_images:\n",
    "                    ref[\"split\"] = \"train_exclude\"\n",
    "                    removed.add(ref[\"image_id\"])\n",
    "                    num_updates += 1\n",
    "\n",
    "    print(\n",
    "        f\"num_train: {num_train}, num_updates: {num_updates}, num_imgs_removed: {len(removed)}\"\n",
    "    )\n",
    "    return refcoco_target\n",
    "\n",
    "\n",
    "new_refcocos = []\n",
    "for refcoco in refcocos:\n",
    "    print(\"Dataset: \", refcoco.dataset_name, refcoco.split_by)\n",
    "    new_refcocos.append(exclude_images(split_img_ids, refcoco))"
   ]
  },
  {
   "cell_type": "code",
   "execution_count": 20,
   "metadata": {
    "tags": []
   },
   "outputs": [
    {
     "name": "stdout",
     "output_type": "stream",
     "text": [
      "Dataset:  R-refcoco unc\n"
     ]
    },
    {
     "data": {
      "text/html": [
       "<div>\n",
       "<style scoped>\n",
       "    .dataframe tbody tr th:only-of-type {\n",
       "        vertical-align: middle;\n",
       "    }\n",
       "\n",
       "    .dataframe tbody tr th {\n",
       "        vertical-align: top;\n",
       "    }\n",
       "\n",
       "    .dataframe thead th {\n",
       "        text-align: right;\n",
       "    }\n",
       "</style>\n",
       "<table border=\"1\" class=\"dataframe\">\n",
       "  <thead>\n",
       "    <tr style=\"text-align: right;\">\n",
       "      <th></th>\n",
       "      <th>refs</th>\n",
       "      <th>images</th>\n",
       "    </tr>\n",
       "    <tr>\n",
       "      <th>split</th>\n",
       "      <th></th>\n",
       "      <th></th>\n",
       "    </tr>\n",
       "  </thead>\n",
       "  <tbody>\n",
       "    <tr>\n",
       "      <th>testA</th>\n",
       "      <td>1975</td>\n",
       "      <td>750</td>\n",
       "    </tr>\n",
       "    <tr>\n",
       "      <th>testB</th>\n",
       "      <td>1810</td>\n",
       "      <td>750</td>\n",
       "    </tr>\n",
       "    <tr>\n",
       "      <th>train</th>\n",
       "      <td>37934</td>\n",
       "      <td>15103</td>\n",
       "    </tr>\n",
       "    <tr>\n",
       "      <th>train_exclude</th>\n",
       "      <td>4470</td>\n",
       "      <td>1891</td>\n",
       "    </tr>\n",
       "    <tr>\n",
       "      <th>val</th>\n",
       "      <td>3811</td>\n",
       "      <td>1500</td>\n",
       "    </tr>\n",
       "  </tbody>\n",
       "</table>\n",
       "</div>"
      ],
      "text/plain": [
       "                refs  images\n",
       "split                       \n",
       "testA           1975     750\n",
       "testB           1810     750\n",
       "train          37934   15103\n",
       "train_exclude   4470    1891\n",
       "val             3811    1500"
      ]
     },
     "metadata": {},
     "output_type": "display_data"
    },
    {
     "name": "stdout",
     "output_type": "stream",
     "text": [
      "Dataset:  R-refcoco+ unc\n"
     ]
    },
    {
     "data": {
      "text/html": [
       "<div>\n",
       "<style scoped>\n",
       "    .dataframe tbody tr th:only-of-type {\n",
       "        vertical-align: middle;\n",
       "    }\n",
       "\n",
       "    .dataframe tbody tr th {\n",
       "        vertical-align: top;\n",
       "    }\n",
       "\n",
       "    .dataframe thead th {\n",
       "        text-align: right;\n",
       "    }\n",
       "</style>\n",
       "<table border=\"1\" class=\"dataframe\">\n",
       "  <thead>\n",
       "    <tr style=\"text-align: right;\">\n",
       "      <th></th>\n",
       "      <th>refs</th>\n",
       "      <th>images</th>\n",
       "    </tr>\n",
       "    <tr>\n",
       "      <th>split</th>\n",
       "      <th></th>\n",
       "      <th></th>\n",
       "    </tr>\n",
       "  </thead>\n",
       "  <tbody>\n",
       "    <tr>\n",
       "      <th>testA</th>\n",
       "      <td>1975</td>\n",
       "      <td>750</td>\n",
       "    </tr>\n",
       "    <tr>\n",
       "      <th>testB</th>\n",
       "      <td>1798</td>\n",
       "      <td>750</td>\n",
       "    </tr>\n",
       "    <tr>\n",
       "      <th>train</th>\n",
       "      <td>37817</td>\n",
       "      <td>15101</td>\n",
       "    </tr>\n",
       "    <tr>\n",
       "      <th>train_exclude</th>\n",
       "      <td>4461</td>\n",
       "      <td>1891</td>\n",
       "    </tr>\n",
       "    <tr>\n",
       "      <th>val</th>\n",
       "      <td>3805</td>\n",
       "      <td>1500</td>\n",
       "    </tr>\n",
       "  </tbody>\n",
       "</table>\n",
       "</div>"
      ],
      "text/plain": [
       "                refs  images\n",
       "split                       \n",
       "testA           1975     750\n",
       "testB           1798     750\n",
       "train          37817   15101\n",
       "train_exclude   4461    1891\n",
       "val             3805    1500"
      ]
     },
     "metadata": {},
     "output_type": "display_data"
    },
    {
     "name": "stdout",
     "output_type": "stream",
     "text": [
      "Dataset:  R-refcocog umd\n"
     ]
    },
    {
     "data": {
      "text/html": [
       "<div>\n",
       "<style scoped>\n",
       "    .dataframe tbody tr th:only-of-type {\n",
       "        vertical-align: middle;\n",
       "    }\n",
       "\n",
       "    .dataframe tbody tr th {\n",
       "        vertical-align: top;\n",
       "    }\n",
       "\n",
       "    .dataframe thead th {\n",
       "        text-align: right;\n",
       "    }\n",
       "</style>\n",
       "<table border=\"1\" class=\"dataframe\">\n",
       "  <thead>\n",
       "    <tr style=\"text-align: right;\">\n",
       "      <th></th>\n",
       "      <th>refs</th>\n",
       "      <th>images</th>\n",
       "    </tr>\n",
       "    <tr>\n",
       "      <th>split</th>\n",
       "      <th></th>\n",
       "      <th></th>\n",
       "    </tr>\n",
       "  </thead>\n",
       "  <tbody>\n",
       "    <tr>\n",
       "      <th>test</th>\n",
       "      <td>5023</td>\n",
       "      <td>2600</td>\n",
       "    </tr>\n",
       "    <tr>\n",
       "      <th>train</th>\n",
       "      <td>37950</td>\n",
       "      <td>20039</td>\n",
       "    </tr>\n",
       "    <tr>\n",
       "      <th>train_exclude</th>\n",
       "      <td>4276</td>\n",
       "      <td>1860</td>\n",
       "    </tr>\n",
       "    <tr>\n",
       "      <th>val</th>\n",
       "      <td>2573</td>\n",
       "      <td>1300</td>\n",
       "    </tr>\n",
       "  </tbody>\n",
       "</table>\n",
       "</div>"
      ],
      "text/plain": [
       "                refs  images\n",
       "split                       \n",
       "test            5023    2600\n",
       "train          37950   20039\n",
       "train_exclude   4276    1860\n",
       "val             2573    1300"
      ]
     },
     "metadata": {},
     "output_type": "display_data"
    },
    {
     "name": "stdout",
     "output_type": "stream",
     "text": [
      "Dataset:  refcoco unc\n"
     ]
    },
    {
     "data": {
      "text/html": [
       "<div>\n",
       "<style scoped>\n",
       "    .dataframe tbody tr th:only-of-type {\n",
       "        vertical-align: middle;\n",
       "    }\n",
       "\n",
       "    .dataframe tbody tr th {\n",
       "        vertical-align: top;\n",
       "    }\n",
       "\n",
       "    .dataframe thead th {\n",
       "        text-align: right;\n",
       "    }\n",
       "</style>\n",
       "<table border=\"1\" class=\"dataframe\">\n",
       "  <thead>\n",
       "    <tr style=\"text-align: right;\">\n",
       "      <th></th>\n",
       "      <th>refs</th>\n",
       "      <th>images</th>\n",
       "    </tr>\n",
       "    <tr>\n",
       "      <th>split</th>\n",
       "      <th></th>\n",
       "      <th></th>\n",
       "    </tr>\n",
       "  </thead>\n",
       "  <tbody>\n",
       "    <tr>\n",
       "      <th>testA</th>\n",
       "      <td>1975</td>\n",
       "      <td>750</td>\n",
       "    </tr>\n",
       "    <tr>\n",
       "      <th>testB</th>\n",
       "      <td>1810</td>\n",
       "      <td>750</td>\n",
       "    </tr>\n",
       "    <tr>\n",
       "      <th>train</th>\n",
       "      <td>37934</td>\n",
       "      <td>15103</td>\n",
       "    </tr>\n",
       "    <tr>\n",
       "      <th>train_exclude</th>\n",
       "      <td>4470</td>\n",
       "      <td>1891</td>\n",
       "    </tr>\n",
       "    <tr>\n",
       "      <th>val</th>\n",
       "      <td>3811</td>\n",
       "      <td>1500</td>\n",
       "    </tr>\n",
       "  </tbody>\n",
       "</table>\n",
       "</div>"
      ],
      "text/plain": [
       "                refs  images\n",
       "split                       \n",
       "testA           1975     750\n",
       "testB           1810     750\n",
       "train          37934   15103\n",
       "train_exclude   4470    1891\n",
       "val             3811    1500"
      ]
     },
     "metadata": {},
     "output_type": "display_data"
    },
    {
     "name": "stdout",
     "output_type": "stream",
     "text": [
      "Dataset:  refcoco+ unc\n"
     ]
    },
    {
     "data": {
      "text/html": [
       "<div>\n",
       "<style scoped>\n",
       "    .dataframe tbody tr th:only-of-type {\n",
       "        vertical-align: middle;\n",
       "    }\n",
       "\n",
       "    .dataframe tbody tr th {\n",
       "        vertical-align: top;\n",
       "    }\n",
       "\n",
       "    .dataframe thead th {\n",
       "        text-align: right;\n",
       "    }\n",
       "</style>\n",
       "<table border=\"1\" class=\"dataframe\">\n",
       "  <thead>\n",
       "    <tr style=\"text-align: right;\">\n",
       "      <th></th>\n",
       "      <th>refs</th>\n",
       "      <th>images</th>\n",
       "    </tr>\n",
       "    <tr>\n",
       "      <th>split</th>\n",
       "      <th></th>\n",
       "      <th></th>\n",
       "    </tr>\n",
       "  </thead>\n",
       "  <tbody>\n",
       "    <tr>\n",
       "      <th>testA</th>\n",
       "      <td>1975</td>\n",
       "      <td>750</td>\n",
       "    </tr>\n",
       "    <tr>\n",
       "      <th>testB</th>\n",
       "      <td>1798</td>\n",
       "      <td>750</td>\n",
       "    </tr>\n",
       "    <tr>\n",
       "      <th>train</th>\n",
       "      <td>37817</td>\n",
       "      <td>15101</td>\n",
       "    </tr>\n",
       "    <tr>\n",
       "      <th>train_exclude</th>\n",
       "      <td>4461</td>\n",
       "      <td>1891</td>\n",
       "    </tr>\n",
       "    <tr>\n",
       "      <th>val</th>\n",
       "      <td>3805</td>\n",
       "      <td>1500</td>\n",
       "    </tr>\n",
       "  </tbody>\n",
       "</table>\n",
       "</div>"
      ],
      "text/plain": [
       "                refs  images\n",
       "split                       \n",
       "testA           1975     750\n",
       "testB           1798     750\n",
       "train          37817   15101\n",
       "train_exclude   4461    1891\n",
       "val             3805    1500"
      ]
     },
     "metadata": {},
     "output_type": "display_data"
    },
    {
     "name": "stdout",
     "output_type": "stream",
     "text": [
      "Dataset:  refcocog umd\n"
     ]
    },
    {
     "data": {
      "text/html": [
       "<div>\n",
       "<style scoped>\n",
       "    .dataframe tbody tr th:only-of-type {\n",
       "        vertical-align: middle;\n",
       "    }\n",
       "\n",
       "    .dataframe tbody tr th {\n",
       "        vertical-align: top;\n",
       "    }\n",
       "\n",
       "    .dataframe thead th {\n",
       "        text-align: right;\n",
       "    }\n",
       "</style>\n",
       "<table border=\"1\" class=\"dataframe\">\n",
       "  <thead>\n",
       "    <tr style=\"text-align: right;\">\n",
       "      <th></th>\n",
       "      <th>refs</th>\n",
       "      <th>images</th>\n",
       "    </tr>\n",
       "    <tr>\n",
       "      <th>split</th>\n",
       "      <th></th>\n",
       "      <th></th>\n",
       "    </tr>\n",
       "  </thead>\n",
       "  <tbody>\n",
       "    <tr>\n",
       "      <th>test</th>\n",
       "      <td>5023</td>\n",
       "      <td>2600</td>\n",
       "    </tr>\n",
       "    <tr>\n",
       "      <th>train</th>\n",
       "      <td>37950</td>\n",
       "      <td>20039</td>\n",
       "    </tr>\n",
       "    <tr>\n",
       "      <th>train_exclude</th>\n",
       "      <td>4276</td>\n",
       "      <td>1860</td>\n",
       "    </tr>\n",
       "    <tr>\n",
       "      <th>val</th>\n",
       "      <td>2573</td>\n",
       "      <td>1300</td>\n",
       "    </tr>\n",
       "  </tbody>\n",
       "</table>\n",
       "</div>"
      ],
      "text/plain": [
       "                refs  images\n",
       "split                       \n",
       "test            5023    2600\n",
       "train          37950   20039\n",
       "train_exclude   4276    1860\n",
       "val             2573    1300"
      ]
     },
     "metadata": {},
     "output_type": "display_data"
    },
    {
     "name": "stdout",
     "output_type": "stream",
     "text": [
      "Dataset:  fprefcoco_v002 berkeley\n"
     ]
    },
    {
     "data": {
      "text/html": [
       "<div>\n",
       "<style scoped>\n",
       "    .dataframe tbody tr th:only-of-type {\n",
       "        vertical-align: middle;\n",
       "    }\n",
       "\n",
       "    .dataframe tbody tr th {\n",
       "        vertical-align: top;\n",
       "    }\n",
       "\n",
       "    .dataframe thead th {\n",
       "        text-align: right;\n",
       "    }\n",
       "</style>\n",
       "<table border=\"1\" class=\"dataframe\">\n",
       "  <thead>\n",
       "    <tr style=\"text-align: right;\">\n",
       "      <th></th>\n",
       "      <th>refs</th>\n",
       "      <th>images</th>\n",
       "    </tr>\n",
       "    <tr>\n",
       "      <th>split</th>\n",
       "      <th></th>\n",
       "      <th></th>\n",
       "    </tr>\n",
       "  </thead>\n",
       "  <tbody>\n",
       "    <tr>\n",
       "      <th>testA</th>\n",
       "      <td>1975</td>\n",
       "      <td>750</td>\n",
       "    </tr>\n",
       "    <tr>\n",
       "      <th>testB</th>\n",
       "      <td>1810</td>\n",
       "      <td>750</td>\n",
       "    </tr>\n",
       "    <tr>\n",
       "      <th>train</th>\n",
       "      <td>37934</td>\n",
       "      <td>15103</td>\n",
       "    </tr>\n",
       "    <tr>\n",
       "      <th>train_exclude</th>\n",
       "      <td>4470</td>\n",
       "      <td>1891</td>\n",
       "    </tr>\n",
       "    <tr>\n",
       "      <th>val</th>\n",
       "      <td>3811</td>\n",
       "      <td>1500</td>\n",
       "    </tr>\n",
       "  </tbody>\n",
       "</table>\n",
       "</div>"
      ],
      "text/plain": [
       "                refs  images\n",
       "split                       \n",
       "testA           1975     750\n",
       "testB           1810     750\n",
       "train          37934   15103\n",
       "train_exclude   4470    1891\n",
       "val             3811    1500"
      ]
     },
     "metadata": {},
     "output_type": "display_data"
    },
    {
     "name": "stdout",
     "output_type": "stream",
     "text": [
      "Dataset:  fprefcoco+_v002 berkeley\n"
     ]
    },
    {
     "data": {
      "text/html": [
       "<div>\n",
       "<style scoped>\n",
       "    .dataframe tbody tr th:only-of-type {\n",
       "        vertical-align: middle;\n",
       "    }\n",
       "\n",
       "    .dataframe tbody tr th {\n",
       "        vertical-align: top;\n",
       "    }\n",
       "\n",
       "    .dataframe thead th {\n",
       "        text-align: right;\n",
       "    }\n",
       "</style>\n",
       "<table border=\"1\" class=\"dataframe\">\n",
       "  <thead>\n",
       "    <tr style=\"text-align: right;\">\n",
       "      <th></th>\n",
       "      <th>refs</th>\n",
       "      <th>images</th>\n",
       "    </tr>\n",
       "    <tr>\n",
       "      <th>split</th>\n",
       "      <th></th>\n",
       "      <th></th>\n",
       "    </tr>\n",
       "  </thead>\n",
       "  <tbody>\n",
       "    <tr>\n",
       "      <th>testA</th>\n",
       "      <td>1975</td>\n",
       "      <td>750</td>\n",
       "    </tr>\n",
       "    <tr>\n",
       "      <th>testB</th>\n",
       "      <td>1798</td>\n",
       "      <td>750</td>\n",
       "    </tr>\n",
       "    <tr>\n",
       "      <th>train</th>\n",
       "      <td>37817</td>\n",
       "      <td>15101</td>\n",
       "    </tr>\n",
       "    <tr>\n",
       "      <th>train_exclude</th>\n",
       "      <td>4461</td>\n",
       "      <td>1891</td>\n",
       "    </tr>\n",
       "    <tr>\n",
       "      <th>val</th>\n",
       "      <td>3805</td>\n",
       "      <td>1500</td>\n",
       "    </tr>\n",
       "  </tbody>\n",
       "</table>\n",
       "</div>"
      ],
      "text/plain": [
       "                refs  images\n",
       "split                       \n",
       "testA           1975     750\n",
       "testB           1798     750\n",
       "train          37817   15101\n",
       "train_exclude   4461    1891\n",
       "val             3805    1500"
      ]
     },
     "metadata": {},
     "output_type": "display_data"
    },
    {
     "name": "stdout",
     "output_type": "stream",
     "text": [
      "Dataset:  fprefcocog_v002 berkeley\n"
     ]
    },
    {
     "data": {
      "text/html": [
       "<div>\n",
       "<style scoped>\n",
       "    .dataframe tbody tr th:only-of-type {\n",
       "        vertical-align: middle;\n",
       "    }\n",
       "\n",
       "    .dataframe tbody tr th {\n",
       "        vertical-align: top;\n",
       "    }\n",
       "\n",
       "    .dataframe thead th {\n",
       "        text-align: right;\n",
       "    }\n",
       "</style>\n",
       "<table border=\"1\" class=\"dataframe\">\n",
       "  <thead>\n",
       "    <tr style=\"text-align: right;\">\n",
       "      <th></th>\n",
       "      <th>refs</th>\n",
       "      <th>images</th>\n",
       "    </tr>\n",
       "    <tr>\n",
       "      <th>split</th>\n",
       "      <th></th>\n",
       "      <th></th>\n",
       "    </tr>\n",
       "  </thead>\n",
       "  <tbody>\n",
       "    <tr>\n",
       "      <th>test</th>\n",
       "      <td>5023</td>\n",
       "      <td>2600</td>\n",
       "    </tr>\n",
       "    <tr>\n",
       "      <th>train</th>\n",
       "      <td>37950</td>\n",
       "      <td>20039</td>\n",
       "    </tr>\n",
       "    <tr>\n",
       "      <th>train_exclude</th>\n",
       "      <td>4276</td>\n",
       "      <td>1860</td>\n",
       "    </tr>\n",
       "    <tr>\n",
       "      <th>val</th>\n",
       "      <td>2573</td>\n",
       "      <td>1300</td>\n",
       "    </tr>\n",
       "  </tbody>\n",
       "</table>\n",
       "</div>"
      ],
      "text/plain": [
       "                refs  images\n",
       "split                       \n",
       "test            5023    2600\n",
       "train          37950   20039\n",
       "train_exclude   4276    1860\n",
       "val             2573    1300"
      ]
     },
     "metadata": {},
     "output_type": "display_data"
    }
   ],
   "source": [
    "for refcoco in new_refcocos:\n",
    "    print(\"Dataset: \", refcoco.dataset_name, refcoco.split_by)\n",
    "    show_train_val_test(refcoco)"
   ]
  },
  {
   "cell_type": "code",
   "execution_count": null,
   "metadata": {},
   "outputs": [],
   "source": []
  },
  {
   "cell_type": "markdown",
   "metadata": {},
   "source": [
    "## Save Results"
   ]
  },
  {
   "cell_type": "code",
   "execution_count": 22,
   "metadata": {
    "tags": []
   },
   "outputs": [
    {
     "name": "stdout",
     "output_type": "stream",
     "text": [
      "Dataset:  R-refcoco unc\n",
      "Saving to:  /shared/gbiamby/data/refer_seg/R-refcoco/refs(unc_exclude_unified).p\n",
      "Dataset:  R-refcoco+ unc\n",
      "Saving to:  /shared/gbiamby/data/refer_seg/R-refcoco+/refs(unc_exclude_unified).p\n",
      "Dataset:  R-refcocog umd\n",
      "Saving to:  /shared/gbiamby/data/refer_seg/R-refcocog/refs(umd_exclude_unified).p\n",
      "Dataset:  refcoco unc\n",
      "Saving to:  /shared/gbiamby/data/refer_seg/refcoco/refs(unc_exclude_unified).p\n",
      "Dataset:  refcoco+ unc\n",
      "Saving to:  /shared/gbiamby/data/refer_seg/refcoco+/refs(unc_exclude_unified).p\n",
      "Dataset:  refcocog umd\n",
      "Saving to:  /shared/gbiamby/data/refer_seg/refcocog/refs(umd_exclude_unified).p\n",
      "Dataset:  fprefcoco_v002 berkeley\n",
      "Saving to:  /shared/gbiamby/data/refer_seg/fprefcoco_v002/refs(berkeley_exclude_unified).p\n",
      "Dataset:  fprefcoco+_v002 berkeley\n",
      "Saving to:  /shared/gbiamby/data/refer_seg/fprefcoco+_v002/refs(berkeley_exclude_unified).p\n",
      "Dataset:  fprefcocog_v002 berkeley\n",
      "Saving to:  /shared/gbiamby/data/refer_seg/fprefcocog_v002/refs(berkeley_exclude_unified).p\n"
     ]
    }
   ],
   "source": [
    "OUTPUT_DIR = Path(\"/shared/gbiamby/data/refer_seg\")\n",
    "\n",
    "\n",
    "def save_results(dataset_name, split_by, refcoco: COCO, output_dir: Path):\n",
    "    # now save the new refs:\n",
    "    refs_paths = [output_dir / dataset_name]\n",
    "    for refs_path in refs_paths:\n",
    "        assert refs_path.exists(), str(refs_path)\n",
    "\n",
    "    for refs_path in refs_paths:\n",
    "        refs_path = refs_path / f\"refs({split_by}_exclude_unified).p\"\n",
    "        print(\"Saving to: \", refs_path)\n",
    "        pickle.dump(refcoco.refs_data, open(refs_path, \"wb\"))\n",
    "\n",
    "\n",
    "for refcoco_new in new_refcocos:\n",
    "    print(\"Dataset: \", refcoco_new.dataset_name, refcoco_new.split_by)\n",
    "    save_results(\n",
    "        refcoco_new.dataset_name, refcoco_new.split_by, refcoco_new, OUTPUT_DIR\n",
    "    )"
   ]
  },
  {
   "cell_type": "code",
   "execution_count": null,
   "metadata": {},
   "outputs": [],
   "source": []
  }
 ],
 "metadata": {
  "kernelspec": {
   "display_name": "cocobetter",
   "language": "python",
   "name": "cocobetter"
  },
  "language_info": {
   "codemirror_mode": {
    "name": "ipython",
    "version": 3
   },
   "file_extension": ".py",
   "mimetype": "text/x-python",
   "name": "python",
   "nbconvert_exporter": "python",
   "pygments_lexer": "ipython3",
   "version": "3.9.0"
  }
 },
 "nbformat": 4,
 "nbformat_minor": 4
}
