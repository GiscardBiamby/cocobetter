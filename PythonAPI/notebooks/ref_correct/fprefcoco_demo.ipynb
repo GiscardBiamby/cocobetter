{
 "cells": [
  {
   "cell_type": "code",
   "execution_count": 1,
   "id": "95ce870a-4978-4600-846d-09a32d513e90",
   "metadata": {
    "tags": []
   },
   "outputs": [],
   "source": [
    "%matplotlib inline\n",
    "%load_ext autoreload\n",
    "%autoreload 2"
   ]
  },
  {
   "cell_type": "code",
   "execution_count": 2,
   "id": "7aeadb83-0c01-41a3-8731-5ce080c4ad10",
   "metadata": {
    "tags": []
   },
   "outputs": [
    {
     "name": "stderr",
     "output_type": "stream",
     "text": [
      "/home/gbiamby/mambaforge/envs/cocobetter/lib/python3.9/site-packages/tqdm/auto.py:21: TqdmWarning: IProgress not found. Please update jupyter and ipywidgets. See https://ipywidgets.readthedocs.io/en/stable/user_install.html\n",
      "  from .autonotebook import tqdm as notebook_tqdm\n"
     ]
    }
   ],
   "source": [
    "import copy\n",
    "import json\n",
    "import os\n",
    "import pickle\n",
    "import typing\n",
    "from collections import Counter, defaultdict\n",
    "from copy import deepcopy\n",
    "from pathlib import Path\n",
    "from typing import Any, Dict, List, Set, Tuple\n",
    "\n",
    "import numpy as np\n",
    "import pandas as pd\n",
    "import PIL.Image as pil_img\n",
    "import seaborn as sns\n",
    "import simdjson as json\n",
    "from IPython.display import display\n",
    "from PIL import Image\n",
    "from pycocotools.coco import COCO\n",
    "from tqdm.auto import tqdm"
   ]
  },
  {
   "cell_type": "code",
   "execution_count": null,
   "id": "d73b3e61-b7f8-4549-b951-cda5d4583c4b",
   "metadata": {},
   "outputs": [],
   "source": []
  },
  {
   "cell_type": "markdown",
   "id": "3db4b9ce-a510-464a-91d1-f08dbd5c1717",
   "metadata": {},
   "source": [
    "## Load and Inspect the Newly Saved RefCOCO Dataset"
   ]
  },
  {
   "cell_type": "code",
   "execution_count": 3,
   "id": "75d90829-2db8-4fc2-a1ab-771bd6d4e785",
   "metadata": {
    "tags": []
   },
   "outputs": [],
   "source": [
    "REFSEG_DIR = Path(\"/shared/gbiamby/data/refer_seg/\")"
   ]
  },
  {
   "cell_type": "code",
   "execution_count": 16,
   "id": "990b244c-e08e-45a5-b288-225d2698e64c",
   "metadata": {
    "tags": []
   },
   "outputs": [
    {
     "name": "stdout",
     "output_type": "stream",
     "text": [
      "\n",
      "\n",
      "\n",
      "============================================================================================================================================================================================================================\n",
      "Dataset: fprefcocog_v002(berkeley)\n",
      "Loading refs from '/shared/gbiamby/data/refer_seg/fprefcocog_v002/refs(berkeley).p'\n",
      "Loaded 49822 refs\n",
      "loading annotations into memory...\n",
      "Done (t=1.15s)\n",
      "creating index...\n",
      "index created!\n"
     ]
    }
   ],
   "source": [
    "VALID_SPLITS = {\n",
    "    \"R-refcoco\": [\"unc\"],\n",
    "    \"R-refcoco+\": [\"unc\"],\n",
    "    \"R-refcocog\": [\"umd\"],\n",
    "    \"refclef\": [\"berkeley\", \"unc\"],\n",
    "    \"refcoco\": [\"google\"],\n",
    "    \"refcoco+\": [\"unc\"],\n",
    "    \"refcocog\": [\"google\", \"umd\"],\n",
    "    \"fprefcocog_v002\": [\"berkeley\"],\n",
    "}\n",
    "\n",
    "\n",
    "def build_refcoco(refseg_path: Path, dataset_name: str, split_by: str = None) -> COCO:\n",
    "    assert dataset_name in VALID_SPLITS, dataset_name\n",
    "    if split_by is None:\n",
    "        split_by = VALID_SPLITS[dataset_name][0]\n",
    "    else:\n",
    "        assert split_by in VALID_SPLITS[dataset_name]\n",
    "    coco = COCO(\n",
    "        refseg_path / dataset_name / \"instances.json\",\n",
    "        is_ref_dataset=True,\n",
    "        dataset_name=dataset_name,\n",
    "        split_by=split_by,\n",
    "    )\n",
    "    return coco\n",
    "\n",
    "\n",
    "df_aggs = []\n",
    "for ds_name in [\"fprefcocog_v002\"]:\n",
    "    print(\"\\n\\n\")\n",
    "    print(\"=\" * 220)\n",
    "    print(f\"Dataset: {ds_name}(berkeley)\")\n",
    "    coco = COCO(\n",
    "        REFSEG_DIR,\n",
    "        is_ref_dataset=True,\n",
    "        dataset_name=ds_name,\n",
    "        split_by=\"berkeley\",\n",
    "    )\n",
    "    ## if you are using cocobetter you can output some stats by un-commenting these lines:\n",
    "    # df_refcoco, df_refcoco_agg = coco.get_ref_stats()\n",
    "    # df_aggs.append(df_refcoco_agg)\n",
    "\n",
    "\n",
    "if len(df_aggs) > 0:\n",
    "    df_aggs = pd.concat(df_aggs)\n",
    "    display(df_aggs)"
   ]
  },
  {
   "cell_type": "markdown",
   "id": "f82da92c-a96b-454d-ba77-e9f5b3d9ec83",
   "metadata": {},
   "source": [
    "The format is nearly identical to refcoco/refcocog. The difference is there are some additional properties in the sentences objects.\n",
    "\n",
    "`coco->images->refs->sentences`\n",
    "\n",
    "#### True sentences vs false premise:\n",
    "\n",
    "These two methods are equivalent ways of detecting if a sentence is a false premise one:\n",
    "\n",
    "`s[\"exist\"] == False` and `s[\"is_false_premise\"]`\n",
    "\n",
    "Usually these sentences also have `sent_id = -1`, but that is not guaranteed so don't rely on it.\n"
   ]
  },
  {
   "cell_type": "code",
   "execution_count": 17,
   "id": "341661b1-1c61-4543-a13a-974e7e54c558",
   "metadata": {
    "tags": []
   },
   "outputs": [
    {
     "name": "stdout",
     "output_type": "stream",
     "text": [
      "ref has keys:  dict_keys(['image_id', 'split', 'sentences', 'file_name', 'category_id', 'ann_id', 'sent_ids', 'ref_id'])\n",
      "ref has 4 sentences\n",
      "sent_id:21606, is_FP:False, sent: 'a large polar bear looking at a smaller polar bear'\n",
      "sent_id:21607, is_FP:False, sent: 'white polar bear looking at another bear'\n",
      "sent_id:-1, is_FP:True, sent: 'a large penguin looking at a smaller penguin'\n",
      "\tchange_type:  \n",
      "\tparent_sent_id: 21606, parent_sent: 'a large polar bear looking at a smaller polar bear'\n",
      "sent_id:-1, is_FP:True, sent: 'white penguin looking at another penguin'\n",
      "\tchange_type:  \n",
      "\tparent_sent_id: 21607, parent_sent: 'white polar bear looking at another bear'\n"
     ]
    }
   ],
   "source": [
    "def display_ref(ref):\n",
    "    print(\"ref has keys: \", ref.keys())\n",
    "    print(f\"ref has {len(ref['sentences'])} sentences\")\n",
    "    for s in ref[\"sentences\"]:\n",
    "        # print(s.keys())\n",
    "        print(\n",
    "            f\"sent_id:{s['sent_id']}, is_FP:{s['is_false_premise']}, sent: '{s['sent']}'\"\n",
    "        )\n",
    "        if s[\"is_false_premise\"]:\n",
    "            print(\"\\tchange_type: \", s[\"change_type\"])\n",
    "            print(f\"\\tparent_sent_id: {s['gt_sent_id']}, parent_sent: '{s['gt_sent']}'\")\n",
    "\n",
    "\n",
    "def show_refexp_example(refcoco: COCO):\n",
    "    ref = refcoco.refs[1000]\n",
    "    display_ref(ref)\n",
    "\n",
    "\n",
    "show_refexp_example(coco)"
   ]
  },
  {
   "cell_type": "markdown",
   "id": "73450d32-1fc4-459a-a531-c58ee67445b3",
   "metadata": {},
   "source": [
    "\n",
    "#### Change Type\n",
    "\n",
    "Sentences in this dataset have a new property called `change_type`, indicating what kind of change was made to convert from the original ground truth sentence to the false premise one."
   ]
  },
  {
   "cell_type": "code",
   "execution_count": 25,
   "id": "ccd38876-975b-4250-b044-a4f8cee005f1",
   "metadata": {
    "tags": []
   },
   "outputs": [
    {
     "name": "stdout",
     "output_type": "stream",
     "text": [
      "Change_Type:  main_subject\n",
      "ref has keys:  dict_keys(['image_id', 'split', 'sentences', 'file_name', 'category_id', 'ann_id', 'sent_ids', 'ref_id'])\n",
      "ref has 4 sentences\n",
      "sent_id:29, is_FP:False, sent: 'a truck number 14 on a snow bank'\n",
      "sent_id:30, is_FP:False, sent: 'a truck with the number 14 painted on it'\n",
      "sent_id:-1, is_FP:True, sent: 'a spaceship number 14 on a snow bank'\n",
      "\tchange_type:  NOT_MAIN_SUBJ\n",
      "\tparent_sent_id: 29, parent_sent: 'a truck number 14 on a snow bank'\n",
      "sent_id:-1, is_FP:True, sent: 'a spaceship with the number 14 painted on it'\n",
      "\tchange_type:  main_subject\n",
      "\tparent_sent_id: 30, parent_sent: 'a truck with the number 14 painted on it'\n"
     ]
    }
   ],
   "source": [
    "def show_change_type(coco: COCO, change_type: str):\n",
    "    for ref_id, ref in coco.refs.items():\n",
    "        for s in ref[\"sentences\"]:\n",
    "            if (\n",
    "                \"change_type\" in s\n",
    "                and s[\"change_type\"]\n",
    "                and s[\"change_type\"] == \"main_subject\"\n",
    "            ):\n",
    "                print(\"Change_Type: \", s[\"change_type\"])\n",
    "                display_ref(ref)\n",
    "                return\n",
    "\n",
    "\n",
    "# show_change_type(coco, \"NOT_MAIN_SUBJ\")\n",
    "show_change_type(coco, \"main_subject\")"
   ]
  },
  {
   "cell_type": "code",
   "execution_count": null,
   "id": "6e2f3eb1-e22f-4957-9299-ac766e1aebd0",
   "metadata": {},
   "outputs": [],
   "source": []
  },
  {
   "cell_type": "code",
   "execution_count": null,
   "id": "3313352d-0339-4a36-be48-683caf00f22d",
   "metadata": {},
   "outputs": [],
   "source": []
  },
  {
   "cell_type": "code",
   "execution_count": null,
   "id": "cd2bf9aa-fe01-4bcc-9c6e-f3516f79c029",
   "metadata": {},
   "outputs": [],
   "source": []
  }
 ],
 "metadata": {
  "kernelspec": {
   "display_name": "cocobetter",
   "language": "python",
   "name": "cocobetter"
  },
  "language_info": {
   "codemirror_mode": {
    "name": "ipython",
    "version": 3
   },
   "file_extension": ".py",
   "mimetype": "text/x-python",
   "name": "python",
   "nbconvert_exporter": "python",
   "pygments_lexer": "ipython3",
   "version": "3.9.0"
  }
 },
 "nbformat": 4,
 "nbformat_minor": 5
}
