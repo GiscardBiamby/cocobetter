get_ipython().run_line_magic("matplotlib", " inline")
get_ipython().run_line_magic("load_ext", " autoreload")
get_ipython().run_line_magic("autoreload", " 2")


get_ipython().run_line_magic("pip", " list | grep json")


import argparse
import copy
import csv
import decimal
import json
import os
import typing
from collections import Counter, defaultdict
from copy import deepcopy
from dataclasses import dataclass
from pathlib import Path
from typing import Dict, List, Set, Tuple

import matplotlib.pyplot as plt
import numpy as np
import pandas as pd
import PIL.Image as pil_img
import seaborn as sns
import simdjson as json
from IPython.display import display
from PIL import Image
from pycocotools.coco import COCO, Ann, Cat, Image, Ref
from pycocotools.helpers import CocoClassDistHelper, CocoJsonBuilder
from pycocotools.helpers.coco_builder import COCOShrinker
from tqdm.auto import tqdm


COCO_DIR = Path("/shared/gbiamby/data/coco")
IMG_DIR = COCO_DIR / "val2017"

dataset_json = Path(COCO_DIR / "annotations" / "instances_val2017.json")
coco_dist = CocoClassDistHelper(dataset_json)
coco = COCO(dataset_json)
for key in list(coco.anns.keys()):
    ann = coco.anns[key]
    if "is_neg" not in ann:
        ann["is_neg"] = False
    cat = coco.cats[ann["category_id"]]
    ann["supercategory"] = cat["supercategory"]
    ann["cat_name"] = cat["name"]


pd.options.display.float_format = "{:,}".format
pd.set_option("display.max_colwidth", None)














import spacy

spacy.prefer_gpu()
import spacy_transformers

nlp = spacy.load("en_core_web_trf")


doc = nlp("This is a sentence.")
print("noun chunks: ", list(doc.noun_chunks))
print([(w.text, w.pos_) for w in doc])





def get_img_info(img_dir: Path, img: dict):
    img_path = img_dir / img["file_name"]
    img = deepcopy(img)
    result = {
        "filename": img_path.name,
        "suffix": img_path.suffix,
        "img_dim": np.asarray(pil_img.open(img_path).convert("L")).shape,
    }
    result["area"] = result["img_dim"][0] * result["img_dim"][1]
    img.update(result)
    return img


print(f"Found {len(coco.imgs)} images to process.")
tqdm._instances.clear()
df_imgs = pd.DataFrame(
    get_img_info(IMG_DIR, img) for img in tqdm(list(coco.imgs.values()))
)
display(df_imgs)


df_anns = pd.DataFrame(coco.anns.values()).drop(columns=["segmentation", "bbox"])

display(df_anns)
df_img_cat_counts = (
    df_anns.groupby(["image_id", "supercategory", "category_id", "cat_name"])
    .agg(total_anns=("id", "count"))
    .reset_index()
)
display(df_img_cat_counts)


df_imgs.merge(df_anns, how="inner", left_on="id", right_on="image_id")


df_positive_cats = df_img_cat_counts[df_img_cat_counts.total_anns == 1].set_index(
    ["image_id", "category_id"]
)
# df_positive_cats["]
display(df_positive_cats)
display(df_positive_cats.loc[581317])
display(df_positive_cats.loc[581317, 77])


def test_dataframe_indexing():
    # Get one cat when there are many:
    cats = df_positive_cats.loc[581317]
    display(cats)
    print(len(cats))
    print(cats.sample(n=1, replace=False))

    # When there is one cat
    cats = df_positive_cats.loc[581615]
    display(cats)
    print(len(cats))
    print(cats.sample(n=1, replace=False))

    # # image_id doesn't exist
    # cats = df_positive_cats.loc[58131887]
    # display(cats)

    # Check when category doesn't exist but img does


test_dataframe_indexing()
# df_positive_cats[df_positive_cats.index["image_id"]==581317]


from collections import defaultdict


def get_img2cats(df: pd.DataFrame):
    img_cats = df.reset_index().to_dict(orient="records")
    img2cats = defaultdict(dict)
    for img_cat in img_cats:
        img2cats[img_cat["image_id"]][img_cat["category_id"]] = img_cat

    return img2cats


cat_counts_pos_samples = get_img2cats(df_positive_cats)
cat_counts_all = get_img2cats(df_img_cat_counts)
print(len(cat_counts_pos_samples), len(df_img_cat_counts))


def coco_negref(args, df_positive_cats: pd.DataFrame):
    """
    Generate COCO with negated annotations.

    Negated Anns are added to every image in the dataset. Negative classes are detected
    as those not appearing in an image ground truth.
    """
    np.random.seed(args.seed)
    coco_annotations_file: Path = args.coco_ann_path
    output_path: Path = args.output_path.absolute()
    output_path.mkdir(exist_ok=True, parents=True)
    assert coco_annotations_file.exists(), str(coco_annotations_file)

    coco_original = COCO(str(coco_annotations_file))
    coco_builder = CocoJsonBuilder(
        coco_original.dataset["categories"],
        dest_path=output_path,
        dest_name=f"negref-{coco_annotations_file.stem}-num_negs_per_pos{args.num_negative_classes_per_image}.json",
        source_coco=coco_original,
    )

    for i, (img_id, img) in tqdm(
        enumerate(coco_original.imgs.items()), total=len(coco_original.imgs)
    ):
        annotations = coco_original.imgToAnns[img_id]
        # Sample negative classes
        all_cats = {cat["id"] for cat in coco_original.cats.values()}
        positive_cats = {ann["category_id"] for ann in annotations}
        negative_cats = list(all_cats - positive_cats)
        selected_negatives: list[int] = np.random.choice(
            negative_cats, size=args.num_negative_classes_per_image, replace=False
        )
        if len(selected_negatives) == 0:
            print(
                "all: ",
                len(all_cats),
                ", pos: ",
                len(positive_cats),
                ", neg: ",
                len(negative_cats),
            )
        # Add the negated annotations:
        new_img: Image = img
        new_anns: list[Ann] = deepcopy(annotations)
        for neg_class_id in selected_negatives:
            # Create annotation with empty bbox and segmentation:
            negative_ann = {
                "segmentation": [[]],
                "area": 0,
                "iscrowd": 0,
                "image_id": img_id,
                "bbox": [],
                "category_id": coco_original.cats[neg_class_id]["id"],
                "is_neg": True,
                "id": -1,
            }
            new_anns.append(negative_ann)
        coco_builder.add_image(new_img, new_anns)
    neg_coco_path = coco_builder.save()

    # Output a miniature json file just for debugging/inspection:
    num_images = 50
    shrinker = COCOShrinker(neg_coco_path)
    shrink_path = f"{neg_coco_path.stem}-mini{num_images}.json"
    shrinker.shrink(shrink_path, size=num_images)


if __name__ == "__main__":
    args = argparse.Namespace(
        **{
            "coco_ann_path": COCO_DIR,
            "output_path": Path("./output/neg_refcoco_v001.json"),
            "num_pos_parents_per_image": 1,
            "num_negs_per_pos": 5,
            "seed": 42,
        }
    )
    print(args)
    # parser = argparse.ArgumentParser(description="negCOCO")
    # parser.add_argument(
    #     "--coco_ann_path",
    #     default=Path("/shared/gbiamby/data/coco/annotations/instances_val2017.json"),
    #     type=Path,
    #     help="Path to a COCO formatted json file.",
    # )
    # parser.add_argument(
    #     "--output_path", default=Path("./output"), type=Path, help="Output directory."
    # )
    # parser.add_argument(
    #     "--num_negative_classes_per_image",
    #     default=1,
    #     type=int,
    #     help="How many negative classes to add to each image.",
    # )
    # parser.add_argument(
    #     "--seed", default=42, type=int, help="Random seed, for determinism :)."
    # )
    # args = parser.parse_args()
    # # main(args)
    coco_negref(args, df_positive_cats)











df_counts = (
    pd.DataFrame(list(coco_dist.get_cat_counts().values()))
    .sort_values("ann_count", ascending=False)
    .reset_index(drop=True)
)
total_anns = df_counts.ann_count.sum()
df_counts["ann_count_pdf"] = df_counts.ann_count / total_anns
df_counts["ann_count_cdf"] = df_counts.ann_count_pdf.cumsum()
display(df_counts)


df_











df_counts["freq_bin_2"] = df_counts.ann_count_cdf.apply(
    lambda x: "high" if x < 0.5 else "low"
)
df_counts["freq_bin_3"] = df_counts.ann_count_cdf.apply(
    lambda x: "high" if x < 0.333 else "medium" if x <= 0.667 else "low"
)
display(df_counts)





plt.figure(figsize=(25, 15))
color_map = plt.get_cmap("magma")
fig = sns.barplot(
    data=df_counts.sort_values(["img_count"], ascending=False),
    x="name",
    y="img_count",
    hue=df_counts.freq_bin_3.values,
)
fig.set_xticklabels(fig.get_xticklabels(), rotation=45, horizontalalignment="right")
fig.set_title(f"Per-category Annotated Image Counts")
plt.tight_layout()





plt.figure(figsize=(25, 15))
color_map = plt.get_cmap("magma")
fig = sns.barplot(
    data=df_counts.sort_values(["ann_count"], ascending=False),
    x="name",
    y="ann_count",
    hue="freq_bin_3",
)
fig.set_xticklabels(fig.get_xticklabels(), rotation=45, horizontalalignment="right")
fig.set_title(f"Per-category Annotation Counts")
plt.tight_layout()



